{
 "cells": [
  {
   "cell_type": "markdown",
   "id": "collected-executive",
   "metadata": {},
   "source": [
    "# Analyze sea-level predictions for Greenland by ISMIP6 and Aschwanden et al (2019) [AS19]"
   ]
  },
  {
   "cell_type": "code",
   "execution_count": 1,
   "id": "peripheral-bargain",
   "metadata": {},
   "outputs": [
    {
     "data": {
      "text/html": [
       "<style>.container { width:95% !important; }</style>"
      ],
      "text/plain": [
       "<IPython.core.display.HTML object>"
      ]
     },
     "metadata": {},
     "output_type": "display_data"
    }
   ],
   "source": [
    "from IPython.core.display import display, HTML\n",
    "display(HTML(\"<style>.container { width:95% !important; }</style>\"))"
   ]
  },
  {
   "cell_type": "code",
   "execution_count": 2,
   "id": "republican-hunter",
   "metadata": {},
   "outputs": [],
   "source": [
    "import numpy as np\n",
    "import os\n",
    "import pylab as plt\n",
    "import pandas as pd\n",
    "import seaborn as sns\n",
    "import scipy\n",
    "\n",
    "import matplotlib.lines as mlines\n",
    "import matplotlib as mpl\n",
    "import matplotlib.cm as cmx\n",
    "import matplotlib.colors as colors\n",
    "\n",
    "from utilities.data_loader import load_imbie, load_mouginot, load_grace, load_ismip6\n",
    "from utilities.helper import hist_start, hist_end, proj_start, proj_end, secpera"
   ]
  },
  {
   "cell_type": "markdown",
   "id": "going-danger",
   "metadata": {},
   "source": [
    "## Plotting helpers"
   ]
  },
  {
   "cell_type": "code",
   "execution_count": 3,
   "id": "fantastic-neighbor",
   "metadata": {},
   "outputs": [],
   "source": [
    "fontsize = 8\n",
    "lw = 0.65\n",
    "aspect_ratio = 0.35\n",
    "markersize = 2\n",
    "\n",
    "params = {\n",
    "    \"axes.linewidth\": 0.25,\n",
    "    \"lines.linewidth\": lw,\n",
    "    \"axes.labelsize\": fontsize,\n",
    "    \"font.size\": fontsize,\n",
    "    \"xtick.direction\": \"in\",\n",
    "    \"xtick.labelsize\": fontsize,\n",
    "    \"xtick.major.size\": 2.5,\n",
    "    \"xtick.major.width\": 0.25,\n",
    "    \"ytick.direction\": \"in\",\n",
    "    \"ytick.labelsize\": fontsize,\n",
    "    \"ytick.major.size\": 2.5,\n",
    "    \"ytick.major.width\": 0.25,\n",
    "    \"legend.fontsize\": fontsize,\n",
    "    \"lines.markersize\": markersize,\n",
    "    \"font.size\": fontsize,\n",
    "}\n",
    "\n",
    "plt.rcParams.update(params)\n",
    "\n",
    "\n",
    "grace_signal_lw = 0.75\n",
    "mouginot_signal_lw = 0.75\n",
    "imbie_signal_lw = 0.75\n",
    "simulated_signal_lw = 0.15\n",
    "grace_signal_color = \"#084594\"\n",
    "grace_sigma_color = \"#9ecae1\"\n",
    "mouginot_signal_color = \"#a63603\"\n",
    "mouginot_sigma_color = \"#fdbe85\"\n",
    "imbie_signal_color = \"#005a32\"\n",
    "imbie_sigma_color = \"#a1d99b\"\n",
    "simulated_signal_color = \"0.7\"\n",
    "\n",
    "gt2cmSLE = 1.0 / 362.5 / 10.0\n",
    "\n",
    "rcp_list = [\"26\", \"85\"]\n",
    "rcp_dict = {\"26\": \"RCP 2.6\", \"45\": \"RCP 4.5\", \"85\": \"RCP 8.5\", \"CTRL\": \"CTRL\"}\n",
    "rcp_col_dict = {\"CTRL\": \"k\", \"85\": \"#990002\", \"45\": \"#5492CD\", \"26\": \"#003466\"}\n",
    "rcp_shade_col_dict = {\"CTRL\": \"k\", \"85\": \"#F4A582\", \"45\": \"#92C5DE\", \"26\": \"#4393C3\"}\n",
    "model_ls_dict = {\"Model Uncertainty (ISMIP6)\": \"solid\", \"Parametric Uncertainty (AS19)\": \"dashed\"}\n",
    "\n",
    "\n",
    "def set_size(w, h, ax=None):\n",
    "    \"\"\" w, h: width, height in inches \"\"\"\n",
    "\n",
    "    if not ax:\n",
    "        ax = plt.gca()\n",
    "    l = ax.figure.subplotpars.left\n",
    "    r = ax.figure.subplotpars.right\n",
    "    t = ax.figure.subplotpars.top\n",
    "    b = ax.figure.subplotpars.bottom\n",
    "    figw = float(w) / (r - l)\n",
    "    figh = float(h) / (t - b)\n",
    "    ax.figure.set_size_inches(figw, figh)\n",
    "\n"
   ]
  },
  {
   "cell_type": "markdown",
   "id": "mechanical-bhutan",
   "metadata": {},
   "source": [
    "## Load ISMIP6 Greenland projections"
   ]
  },
  {
   "cell_type": "code",
   "execution_count": 4,
   "id": "architectural-customs",
   "metadata": {},
   "outputs": [],
   "source": [
    "ismip6 = load_ismip6()"
   ]
  },
  {
   "cell_type": "markdown",
   "id": "unnecessary-restoration",
   "metadata": {},
   "source": [
    "## ISMIP6 in numbers"
   ]
  },
  {
   "cell_type": "code",
   "execution_count": 5,
   "id": "damaged-method",
   "metadata": {},
   "outputs": [
    {
     "name": "stdout",
     "output_type": "stream",
     "text": [
      "Number of modeling groups participated: 13\n",
      "Number of ice sheet model configurations used: 18\n",
      "Number of experiments: 9\n"
     ]
    }
   ],
   "source": [
    "ng = len(ismip6.groupby(by=\"Group\").mean())\n",
    "nm = len(ismip6.groupby(by=\"Model\").mean())\n",
    "ne = len(ismip6.groupby(by=\"Exp\").mean())\n",
    "\n",
    "print(f\"Number of modeling groups participated: {ng}\")\n",
    "print(f\"Number of ice sheet model configurations used: {nm}\")\n",
    "print(f\"Number of experiments: {ne}\")"
   ]
  },
  {
   "cell_type": "markdown",
   "id": "boring-kenya",
   "metadata": {},
   "source": [
    "## Load Observations"
   ]
  },
  {
   "cell_type": "code",
   "execution_count": 6,
   "id": "verbal-delivery",
   "metadata": {},
   "outputs": [],
   "source": [
    "grace = load_grace()\n",
    "mou19 = load_mouginot()\n",
    "imbie = load_imbie()"
   ]
  },
  {
   "cell_type": "markdown",
   "id": "young-filename",
   "metadata": {},
   "source": [
    "## Plot function to reproduce Figure 1 in Aschwanden et al (2021)"
   ]
  },
  {
   "cell_type": "code",
   "execution_count": 7,
   "id": "following-emphasis",
   "metadata": {},
   "outputs": [],
   "source": [
    "def plot_historical(out_filename, df, grace, mou19, imbie):\n",
    "    \"\"\"\n",
    "    Plot historical simulations and observations.\n",
    "    \"\"\"\n",
    "\n",
    "    def plot_signal(g):\n",
    "        m_df = g[-1]\n",
    "        x = m_df[\"Year\"]\n",
    "        y = m_df[\"Cumulative ice sheet mass change (Gt)\"]\n",
    "\n",
    "        return ax.plot(x, y, color=simulated_signal_color, linewidth=simulated_signal_lw)\n",
    "\n",
    "    xmin = 2000\n",
    "    xmax = 2025\n",
    "    ymin = -3000\n",
    "    ymax = 4000\n",
    "\n",
    "    fig = plt.figure(num=\"historical\", clear=True)\n",
    "    ax = fig.add_subplot(111)\n",
    "\n",
    "    \n",
    "    [plot_signal(g) for g in df.groupby(by=[\"Group\", \"Model\", \"Exp\"])]\n",
    "\n",
    "    ismip6_mean = df.groupby(by=\"Year\").mean()\n",
    "    ismip6_std = df.groupby(by=\"Year\").std()\n",
    "    ismip6_low = df.groupby(by=\"Year\").quantile(0.05)\n",
    "    ismip6_high = df.groupby(by=\"Year\").quantile(0.95)\n",
    "\n",
    "\n",
    "    ismip6_ci = ax.fill_between(\n",
    "        ismip6_mean.index,\n",
    "        ismip6_low[\"Cumulative ice sheet mass change (Gt)\"],\n",
    "        ismip6_high[\"Cumulative ice sheet mass change (Gt)\"],\n",
    "        color=\"0.0\",\n",
    "        alpha=0.30,\n",
    "        linewidth=0.0,\n",
    "        zorder=10,\n",
    "        label=\"Simulated (ISMIP6) 90% c.i.\"\n",
    "    )\n",
    "\n",
    "\n",
    "    # Plot GRACE\n",
    "    ax.fill_between(\n",
    "        mou19[\"Year\"],\n",
    "        (1 - 0.057) * mou19[\"Cumulative ice sheet mass change (Gt)\"],\n",
    "        (1 + 0.057) * mou19[\"Cumulative ice sheet mass change (Gt)\"],\n",
    "        color=mouginot_sigma_color,\n",
    "        alpha=0.5,\n",
    "        linewidth=0,\n",
    "    )\n",
    "    mou19_line = ax.plot(\n",
    "        mou19[\"Year\"],\n",
    "        mou19[\"Cumulative ice sheet mass change (Gt)\"],\n",
    "        \"-\",\n",
    "        color=mouginot_signal_color,\n",
    "        linewidth=mouginot_signal_lw,\n",
    "        label=\"Observed (Mouginot)\",\n",
    "    )\n",
    "\n",
    "    ax.fill_between(\n",
    "        imbie[\"Year\"],\n",
    "        imbie[\"Cumulative ice sheet mass change (Gt)\"]\n",
    "        - 1 * imbie[\"Cumulative ice sheet mass change uncertainty (Gt)\"],\n",
    "        imbie[\"Cumulative ice sheet mass change (Gt)\"]\n",
    "        + 1 * imbie[\"Cumulative ice sheet mass change uncertainty (Gt)\"],\n",
    "        color=imbie_sigma_color,\n",
    "        alpha=0.5,\n",
    "        linewidth=0,\n",
    "    )\n",
    "    imbie_line = ax.plot(\n",
    "        imbie[\"Year\"],\n",
    "        imbie[\"Cumulative ice sheet mass change (Gt)\"],\n",
    "        \"-\",\n",
    "        color=imbie_signal_color,\n",
    "        linewidth=imbie_signal_lw,\n",
    "        label=\"Observed (IMBIE)\",\n",
    "    )\n",
    "\n",
    "    ax.fill_between(\n",
    "        grace[\"Year\"],\n",
    "        grace[\"Cumulative ice sheet mass change (Gt)\"]\n",
    "        - 1 * grace[\"Cumulative ice sheet mass change uncertainty (Gt)\"],\n",
    "        grace[\"Cumulative ice sheet mass change (Gt)\"]\n",
    "        + 1 * grace[\"Cumulative ice sheet mass change uncertainty (Gt)\"],\n",
    "        color=grace_sigma_color,\n",
    "        alpha=0.5,\n",
    "        linewidth=0,\n",
    "    )\n",
    "    grace_line = ax.plot(\n",
    "        grace[\"Year\"],\n",
    "        grace[\"Cumulative ice sheet mass change (Gt)\"],\n",
    "        \"-\",\n",
    "        color=grace_signal_color,\n",
    "        linewidth=grace_signal_lw,\n",
    "        label=\"Observed (GRACE)\",\n",
    "    )\n",
    "    ax.axvline(proj_start, color=\"k\", linestyle=\"dashed\", linewidth=grace_signal_lw)\n",
    "    ax.axhline(0, color=\"k\", linestyle=\"dotted\", linewidth=grace_signal_lw)\n",
    "    ax.text(2014.75, 3000, \"Historical Period\", ha=\"right\")\n",
    "    ax.text(2015.25, 3000, \"Projection Period\", ha=\"left\")\n",
    "\n",
    "    model_line = mlines.Line2D([], [], color=simulated_signal_color, linewidth=simulated_signal_lw, label=\"Simulated (ISMIP6)\")\n",
    "\n",
    "    legend = ax.legend(handles=[grace_line[0], mou19_line[0], imbie_line[0], model_line, ismip6_ci], loc=\"lower left\")\n",
    "    legend.get_frame().set_linewidth(0.0)\n",
    "    legend.get_frame().set_alpha(0.0)\n",
    "\n",
    "    ax.set_xlabel(\"Year\")\n",
    "    ax.set_ylabel(f\"Cumulative mass change\\nsince {proj_start} (Gt)\")\n",
    "\n",
    "    ax.set_xlim(xmin, xmax)\n",
    "    ax.set_ylim(ymin, ymax)\n",
    "    ax_sle = ax.twinx()\n",
    "    ax_sle.set_ylabel(f\"Contribution to sea-level \\nsince {proj_start} (cm SLE)\")\n",
    "    ax_sle.set_ylim(-ymin * gt2cmSLE, -ymax * gt2cmSLE)\n",
    "\n",
    "    set_size(5, 2.5)\n",
    "\n",
    "    fig.savefig(out_filename, bbox_inches=\"tight\")\n"
   ]
  },
  {
   "cell_type": "markdown",
   "id": "revised-liberty",
   "metadata": {},
   "source": [
    "## Plot the historical simulations along side observations"
   ]
  },
  {
   "cell_type": "code",
   "execution_count": 8,
   "id": "black-france",
   "metadata": {},
   "outputs": [
    {
     "data": {
      "image/png": "[encoded data removed]",
      "text/plain": [
       "<Figure size 464.516x238.411 with 2 Axes>"
      ]
     },
     "metadata": {
      "needs_background": "light"
     },
     "output_type": "display_data"
    }
   ],
   "source": [
    "historical_filename = \"GRIS_historical.pdf\"\n",
    "plot_historical(historical_filename, ismip6, grace, mou19, imbie)\n"
   ]
  },
  {
   "cell_type": "markdown",
   "id": "threaded-baghdad",
   "metadata": {},
   "source": [
    "Unfortunately, most simulations underestimate recent (2008--2020) mass loss. Indeed, the observed record of mass loss lies beyond the 95th percentile of the ISMIP6 experiments. Underestimating recent mass loss likely translates into underestimating mass loss at 2100 as well.  That observations and the ensemble are disjoint implies that model uncertainty is underestimated both now and in the future. "
   ]
  },
  {
   "cell_type": "markdown",
   "id": "excess-manhattan",
   "metadata": {},
   "source": [
    "## Comparison between model and parametric uncertainty"
   ]
  },
  {
   "cell_type": "markdown",
   "id": "broke-fluid",
   "metadata": {},
   "source": [
    "Let us now compare model uncertainty and parametric uncertainty. Here we will use the 500 member ensemble of Aschwanden et al. (2019) [AS19]. We start by loading the AS19 data set."
   ]
  },
  {
   "cell_type": "code",
   "execution_count": 9,
   "id": "dependent-incident",
   "metadata": {},
   "outputs": [],
   "source": [
    "as19_norm = pd.read_csv(\"as19/aschwanden_et_al_2019_les_2015_norm.csv.gz\")\n",
    "as19_norm[\"SLE (cm)\"] = -as19_norm[\"Mass (Gt)\"] / 362.5 / 10\n",
    "as19_norm = as19_norm.astype({\"RCP\": int, \"Experiment\": int})\n",
    "\n",
    "samples_file = \"lhs_samples/lhs_samples_500.csv\"\n",
    "samples = pd.read_csv(samples_file).rename(columns={\"id\": \"Experiment\"})\n",
    "\n",
    "as19_norm = pd.merge(as19_norm, samples, on=\"Experiment\")\n"
   ]
  },
  {
   "cell_type": "code",
   "execution_count": 10,
   "id": "excessive-producer",
   "metadata": {},
   "outputs": [
    {
     "name": "stdout",
     "output_type": "stream",
     "text": [
      "Inter-quartile range (IQR):\n",
      "\n",
      "\n"
     ]
    },
    {
     "ename": "NameError",
     "evalue": "name 'ismip6_2100' is not defined",
     "output_type": "error",
     "traceback": [
      "\u001b[0;31m---------------------------------------------------------------------------\u001b[0m",
      "\u001b[0;31mNameError\u001b[0m                                 Traceback (most recent call last)",
      "\u001b[0;32m<ipython-input-10-10f2f9e7366a>\u001b[0m in \u001b[0;36m<module>\u001b[0;34m\u001b[0m\n\u001b[1;32m      1\u001b[0m \u001b[0mprint\u001b[0m\u001b[0;34m(\u001b[0m\u001b[0;34m\"Inter-quartile range (IQR):\\n\\n\"\u001b[0m\u001b[0;34m)\u001b[0m\u001b[0;34m\u001b[0m\u001b[0;34m\u001b[0m\u001b[0m\n\u001b[1;32m      2\u001b[0m \u001b[0;34m\u001b[0m\u001b[0m\n\u001b[0;32m----> 3\u001b[0;31m \u001b[0mmodel_df_dict\u001b[0m \u001b[0;34m=\u001b[0m \u001b[0;34m{\u001b[0m\u001b[0;34m\"Model Uncertainty (ISMIP6)\"\u001b[0m\u001b[0;34m:\u001b[0m \u001b[0mismip6_2100\u001b[0m\u001b[0;34m,\u001b[0m \u001b[0;34m\"Parametric Uncertainty (AS19)\"\u001b[0m\u001b[0;34m:\u001b[0m \u001b[0mas19_2100\u001b[0m\u001b[0;34m}\u001b[0m\u001b[0;34m\u001b[0m\u001b[0;34m\u001b[0m\u001b[0m\n\u001b[0m\u001b[1;32m      4\u001b[0m \u001b[0;34m\u001b[0m\u001b[0m\n\u001b[1;32m      5\u001b[0m \u001b[0mas19_2100\u001b[0m \u001b[0;34m=\u001b[0m \u001b[0mas19_norm\u001b[0m\u001b[0;34m[\u001b[0m\u001b[0mas19_norm\u001b[0m\u001b[0;34m[\u001b[0m\u001b[0;34m\"Year\"\u001b[0m\u001b[0;34m]\u001b[0m \u001b[0;34m==\u001b[0m \u001b[0;36m2100\u001b[0m\u001b[0;34m]\u001b[0m\u001b[0;34m\u001b[0m\u001b[0;34m\u001b[0m\u001b[0m\n",
      "\u001b[0;31mNameError\u001b[0m: name 'ismip6_2100' is not defined"
     ]
    }
   ],
   "source": [
    "print(\"Inter-quartile range (IQR):\\n\\n\")\n",
    "\n",
    "as19_2100 = as19_norm[as19_norm[\"Year\"] == 2100]\n",
    "ismip6_2100 = ismip6[ismip6[\"Year\"] == 2100]\n",
    "model_df_dict = {\"Model Uncertainty (ISMIP6)\": ismip6_2100, \"Parametric Uncertainty (AS19)\": as19_2100}\n",
    "\n",
    "fig = plt.figure(num=\"kde\", clear=True)\n",
    "ax = fig.add_subplot(111)\n",
    "\n",
    "for l, df in model_df_dict.items():\n",
    "    for rcp in rcp_list:\n",
    "        s_df = df[df[\"RCP\"] == rcp]\n",
    "        color = rcp_col_dict[str(rcp)]\n",
    "        sns.kdeplot(data=s_df, x=\"SLE (cm)\", color=color, ls=ls, ax=ax)\n",
    "        m_q = s_df[\"SLE (cm)\"].quantile(0.75) - s_df[\"SLE (cm)\"].quantile(0.25)\n",
    "        m_q = np.round(m_q, 1)\n",
    "        print(f\"  - {l} {rcp_dict[str(rcp)]} IQR= {m_q:.1f} cm SLE\")\n",
    "\n",
    "lr = [mlines.Line2D([], [], color=rcp_col_dict[rcp], label=f\"RCP {rcp}\") for rcp in rcp_list]\n",
    "lm = [mlines.Line2D([], [], color=\"k\", linestyle=v, label=k) for k, v in model_ls_dict.items()]\n",
    "ax.set_title(\"Model vs parametric uncertainty at 2100\")\n",
    "legend = ax.legend(handles=lr + lm)\n",
    "legend.get_frame().set_linewidth(0.0)\n",
    "legend.get_frame().set_alpha(0.0)\n",
    "set_size(3.2, 1.8)\n",
    "fig.savefig(\"model_vs_parametric_uncerainty_pdf.pdf\")"
   ]
  }
 ],
 "metadata": {
  "kernelspec": {
   "display_name": "Python 3",
   "language": "python",
   "name": "python3"
  },
  "language_info": {
   "codemirror_mode": {
    "name": "ipython",
    "version": 3
   },
   "file_extension": ".py",
   "mimetype": "text/x-python",
   "name": "python",
   "nbconvert_exporter": "python",
   "pygments_lexer": "ipython3",
   "version": "3.8.8"
  }
 },
 "nbformat": 4,
 "nbformat_minor": 5
}
