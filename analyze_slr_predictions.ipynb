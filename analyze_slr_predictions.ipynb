{
 "cells": [
  {
   "cell_type": "code",
   "execution_count": 20,
   "id": "prostate-numbers",
   "metadata": {},
   "outputs": [],
   "source": [
    "import numpy as np\n",
    "import os\n",
    "import pylab as plt\n",
    "import pandas as pd\n",
    "import seaborn as sns\n",
    "import statsmodels.api as sm\n",
    "\n",
    "import matplotlib.lines as mlines\n",
    "import matplotlib as mpl\n",
    "import matplotlib.cm as cmx\n",
    "import matplotlib.colors as colors\n",
    "\n",
    "from datetime import datetime\n",
    "import time"
   ]
  },
  {
   "cell_type": "code",
   "execution_count": 23,
   "id": "adjusted-conversation",
   "metadata": {},
   "outputs": [],
   "source": [
    "hist_start = 2008\n",
    "hist_end = 2014\n",
    "proj_start = hist_end + 1\n",
    "proj_end = 2100"
   ]
  },
  {
   "cell_type": "markdown",
   "id": "official-music",
   "metadata": {},
   "source": [
    "Plotting helpers"
   ]
  },
  {
   "cell_type": "code",
   "execution_count": 28,
   "id": "aboriginal-partnership",
   "metadata": {},
   "outputs": [],
   "source": [
    "fontsize = 8\n",
    "lw = 0.65\n",
    "aspect_ratio = 0.35\n",
    "markersize = 2\n",
    "\n",
    "params = {\n",
    "    \"axes.linewidth\": 0.25,\n",
    "    \"lines.linewidth\": lw,\n",
    "    \"axes.labelsize\": fontsize,\n",
    "    \"font.size\": fontsize,\n",
    "    \"xtick.direction\": \"in\",\n",
    "    \"xtick.labelsize\": fontsize,\n",
    "    \"xtick.major.size\": 2.5,\n",
    "    \"xtick.major.width\": 0.25,\n",
    "    \"ytick.direction\": \"in\",\n",
    "    \"ytick.labelsize\": fontsize,\n",
    "    \"ytick.major.size\": 2.5,\n",
    "    \"ytick.major.width\": 0.25,\n",
    "    \"legend.fontsize\": fontsize,\n",
    "    \"lines.markersize\": markersize,\n",
    "    \"font.size\": fontsize,\n",
    "}\n",
    "\n",
    "plt.rcParams.update(params)\n",
    "\n",
    "\n",
    "secpera = 3.15569259747e7\n",
    "\n",
    "grace_signal_lw = 0.75\n",
    "mouginot_signal_lw = 0.75\n",
    "imbie_signal_lw = 0.75\n",
    "simulated_signal_lw = 0.3\n",
    "grace_signal_color = \"#084594\"\n",
    "grace_sigma_color = \"#9ecae1\"\n",
    "mouginot_signal_color = \"#a63603\"\n",
    "mouginot_sigma_color = \"#fdbe85\"\n",
    "imbie_signal_color = \"#005a32\"\n",
    "imbie_sigma_color = \"#a1d99b\"\n",
    "mankoff_signal_color = \"#54278f\"\n",
    "mankoff_sigma_color = \"#bcbddc\"\n",
    "simulated_signal_color = \"0.7\"\n",
    "\n",
    "gt2cmSLE = 1.0 / 362.5 / 10.0\n",
    "\n",
    "rcp_list = [\"26\", \"45\", \"85\"]\n",
    "rcp_col_dict = {\"CTRL\": \"k\", 85: \"#990002\", 45: \"#5492CD\", 26: \"#003466\"}\n"
   ]
  },
  {
   "cell_type": "markdown",
   "id": "killing-absence",
   "metadata": {},
   "source": [
    "## Load ISMIP Greenland projections"
   ]
  },
  {
   "cell_type": "code",
   "execution_count": 261,
   "id": "numerous-interim",
   "metadata": {},
   "outputs": [],
   "source": [
    "ismip6 = pd.read_csv(\"ismip6_gris_ctrl_removed.csv.gz\")"
   ]
  },
  {
   "cell_type": "markdown",
   "id": "fifteen-chambers",
   "metadata": {},
   "source": [
    "## Prepare GRACE time series"
   ]
  },
  {
   "cell_type": "code",
   "execution_count": 268,
   "id": "written-mentor",
   "metadata": {},
   "outputs": [],
   "source": [
    "grace = pd.read_csv(\n",
    "    \"grace/greenland_mass_200204_202008.txt\",\n",
    "    header=30,\n",
    "    delim_whitespace=True,\n",
    "    skipinitialspace=True,\n",
    "    names=[\"Year\", \"Cumulative ice sheet mass change (Gt)\", \"Cumulative ice sheet mass change uncertainty (Gt)\"],\n",
    "    )\n",
    "# Normalize GRACE signal to the starting date of the projection\n",
    "grace[\"Cumulative ice sheet mass change (Gt)\"] -= np.interp(\n",
    "    proj_start, grace[\"Year\"], grace[\"Cumulative ice sheet mass change (Gt)\"]\n",
    ")\n",
    "\n",
    "# Get the GRACE trend\n",
    "grace_time = (grace[\"Year\"] >= hist_start) & (grace[\"Year\"] <= proj_start)\n",
    "grace_hist_df = grace[grace_time]\n",
    "x = grace_hist_df[\"Year\"]\n",
    "y = grace_hist_df[\"Cumulative ice sheet mass change (Gt)\"]   \n",
    "s = grace_hist_df[\"Cumulative ice sheet mass change uncertainty (Gt)\"]\n",
    "X = sm.add_constant(x)\n",
    "ols = sm.OLS(y, X).fit()\n",
    "p = ols.params\n",
    "grace_bias = p[0]\n",
    "grace_trend = p[1]\n",
    "grace_trend_stderr = ols.bse[1]\n"
   ]
  },
  {
   "cell_type": "markdown",
   "id": "horizontal-vertical",
   "metadata": {},
   "source": [
    "## Prepare Aschwanden et al (2019) projections"
   ]
  },
  {
   "cell_type": "code",
   "execution_count": 272,
   "id": "resistant-preference",
   "metadata": {},
   "outputs": [],
   "source": [
    "as19_norm = pd.read_csv(\"as19/aschwanden_et_al_2019_les_2015_norm.csv.gz\")\n",
    "as19_norm[\"SLE (cm)\"] = -as19_norm[\"Mass (Gt)\"] / 362.5 / 10\n",
    "as19_norm = as19_norm.astype({\"RCP\": int, \"Experiment\": int})"
   ]
  },
  {
   "cell_type": "code",
   "execution_count": 388,
   "id": "pleased-contest",
   "metadata": {},
   "outputs": [],
   "source": [
    "def plot_prognostic(ismip6, as19):\n",
    "    \"\"\"\n",
    "    Plot model projections\n",
    "    \"\"\"\n",
    "\n",
    "    xmin = -5\n",
    "    xmax = 45\n",
    "    \n",
    "    fig, ax = plt.subplots(\n",
    "        1,\n",
    "        2,\n",
    "        sharey=\"col\",\n",
    "        figsize=[6.2, 3.0],\n",
    "        num=\"prognostic_all\",\n",
    "        clear=True,\n",
    "        gridspec_kw=dict(width_ratios=[10, 1]),\n",
    "    )\n",
    "    fig.subplots_adjust(wspace=0.05)\n",
    "\n",
    "    def plot_signal(g, *kwargs):\n",
    "\n",
    "        return ax[0].plot(g[-1][\"Year\"], g[-1][\"SLE (cm)\"], zorder=-10, color=\"#8c510a\", linewidth=0.5, alpha=0.1, *kwargs)\n",
    "\n",
    "    # Plot each model response by grouping\n",
    "    [plot_signal(g) for g in ismip6.groupby(by=[\"Group\", \"Model\", \"Exp\", \"RCP\"])]\n",
    "\n",
    "    sns.kdeplot(\n",
    "        data=ismip6[ismip6[\"Year\"] == 2100],\n",
    "        y=\"SLE (cm)\",\n",
    "        common_grid=True,\n",
    "        common_norm=True,\n",
    "        color=\"#8c510a\",\n",
    "        linewidth=0.75,\n",
    "        ax=ax[1],\n",
    "    )\n",
    "\n",
    "    l_ismip6 = mlines.Line2D([], [], color=\"#8c510a\", linewidth=1.0, linestyle=\"solid\", label=\"ISMIP6\")\n",
    "    l_as19 = mlines.Line2D([], [], color=\"#01665e\", linewidth=1.0, linestyle=\"solid\", label=\"AS19\")\n",
    "    \n",
    "    legend_1 = ax[0].legend(handles=[l_ismip6], loc=\"upper left\")\n",
    "    legend_1.get_frame().set_linewidth(0.0)\n",
    "    legend_1.get_frame().set_alpha(0.0)\n",
    "\n",
    "    sns.despine(ax=ax[1], left=True, bottom=True)\n",
    "    try:\n",
    "        ax[1].get_legend().remove()\n",
    "    except:\n",
    "        pass\n",
    "    ax[0].set_ylim(xmin, xmax)\n",
    "    ax[1].set_ylim(xmin, xmax)\n",
    "    ax[0].set_xlim(proj_start, proj_end)\n",
    "    ax[1].set_xlabel(None)\n",
    "    ax[1].set_ylabel(None)\n",
    "    ax[1].axes.xaxis.set_visible(False)\n",
    "    ax[1].axes.yaxis.set_visible(False)\n",
    "    ax[0].set_xlabel(\"Year\")\n",
    "    ax[0].set_ylabel(\"SLE contribution (cm)\")\n",
    "    fig.savefig(\"GIS_ismip6_projection.pdf\", bbox_inches=\"tight\")\n",
    "    \n",
    "    g16 = ismip6.groupby(by=[\"Year\"]).quantile(0.16).reset_index()\n",
    "    g50 = ismip6.groupby(by=[\"Year\"]).quantile(0.5).reset_index()\n",
    "    g84 = ismip6.groupby(by=[\"Year\"]).quantile(0.84).reset_index()\n",
    "    # Percentiles at 2100\n",
    "    p16 = g16[g16[\"Year\"] == 2100][\"SLE (cm)\"].values[-1]\n",
    "    p50 = g50[g50[\"Year\"] == 2100][\"SLE (cm)\"].values[-1]\n",
    "    p84 = g84[g84[\"Year\"] == 2100][\"SLE (cm)\"].values[-1]\n",
    "    \n",
    "    ax[0].fill_between(g50[\"Year\"], g16[\"SLE (cm)\"], g84[\"SLE (cm)\"], color=\"#bf812d\", linewidth=1.0, alpha=1.0,)\n",
    "    ax[0].plot(g16[\"Year\"], g16[\"SLE (cm)\"], color=\"#8c510a\", linewidth=0.25, alpha=1.0,)\n",
    "    ax[0].plot(g50[\"Year\"], g50[\"SLE (cm)\"], color=\"#8c510a\", linewidth=1.0, alpha=1.0,)\n",
    "    ax[0].plot(g84[\"Year\"], g84[\"SLE (cm)\"], color=\"#8c510a\", linewidth=0.25, alpha=1.0,)\n",
    "    \n",
    "    ax[1].axhline(p16, color=\"#8c510a\", linewidth=0.5, alpha=1.0,)\n",
    "    ax[1].axhline(p50, color=\"#8c510a\", linewidth=1.0, alpha=1.0,)\n",
    "    ax[1].axhline(p84, color=\"#8c510a\", linewidth=0.5, alpha=1.0,)\n",
    "    ax[1].annotate(np.round(p16, 0), (0.13, p16), color=\"#8c510a\", xycoords=\"data\")\n",
    "    ax[1].annotate(np.round(p50, 0), (0.13, p50), color=\"#8c510a\", xycoords=\"data\")\n",
    "    ax[1].annotate(np.round(p84, 0), (0.13, p84), color=\"#8c510a\", xycoords=\"data\")\n",
    "\n",
    "    fig.savefig(\"GIS_ismip6_projection_stats.pdf\", bbox_inches=\"tight\", pad_inches=0.1)\n",
    "\n",
    "\n",
    "    def plot_signal(g, *kwargs):\n",
    "\n",
    "        return ax[0].plot(g[-1][\"Year\"], g[-1][\"SLE (cm)\"], zorder=-9, color=\"#01665e\", linewidth=0.5, alpha=0.1, *kwargs)\n",
    "\n",
    "    # Plot each model response by grouping\n",
    "    [plot_signal(g) for g in as19.groupby(by=[\"Experiment\", \"RCP\"])]\n",
    "    g16 = as19.groupby(by=[\"Year\"]).quantile(0.16).reset_index()\n",
    "    g50 = as19.groupby(by=[\"Year\"]).quantile(0.5).reset_index()\n",
    "    g84 = as19.groupby(by=[\"Year\"]).quantile(0.84).reset_index()\n",
    "    # Percentiles at 2100\n",
    "    p16 = g16[g16[\"Year\"] == 2100][\"SLE (cm)\"].values[-1]\n",
    "    p50 = g50[g50[\"Year\"] == 2100][\"SLE (cm)\"].values[-1]\n",
    "    p84 = g84[g84[\"Year\"] == 2100][\"SLE (cm)\"].values[-1]\n",
    "\n",
    "    \n",
    "    ax[0].fill_between(g50[\"Year\"], g16[\"SLE (cm)\"], g84[\"SLE (cm)\"], color=\"#35978f\", linewidth=1.0, alpha=1.0,)\n",
    "    ax[0].plot(g16[\"Year\"], g16[\"SLE (cm)\"], color=\"#01665e\", linewidth=0.25, alpha=1.0,)\n",
    "    ax[0].plot(g50[\"Year\"], g50[\"SLE (cm)\"], color=\"#01665e\", linewidth=1.0, alpha=1.0,)\n",
    "    ax[0].plot(g84[\"Year\"], g84[\"SLE (cm)\"], color=\"#01665e\", linewidth=0.25, alpha=1.0,)\n",
    "\n",
    "    ax[1].axhline(p16, color=\"#01665e\", linewidth=0.5, alpha=1.0,)\n",
    "    ax[1].axhline(p50, color=\"#01665e\", linewidth=1.0, alpha=1.0,)\n",
    "    ax[1].axhline(p84, color=\"#01665e\", linewidth=0.5, alpha=1.0,)\n",
    "\n",
    "    ax[1].annotate(np.round(p16, 0), (0.13, p16), color=\"#01665e\", xycoords=\"data\")\n",
    "    ax[1].annotate(np.round(p50, 0), (0.13, p50), color=\"#01665e\", xycoords=\"data\")\n",
    "    ax[1].annotate(np.round(p84, 0), (0.13, p84), color=\"#01665e\", xycoords=\"data\")\n",
    "    \n",
    "    sns.kdeplot(\n",
    "        data=as19[as19[\"Year\"] == 2100],\n",
    "        y=\"SLE (cm)\",\n",
    "        common_grid=True,\n",
    "        common_norm=True,\n",
    "        color=\"#01665e\",\n",
    "        linewidth=0.75,\n",
    "        ax=ax[1],\n",
    "    )\n",
    "\n",
    "    legend_1 = ax[0].legend(handles=[l_ismip6, l_as19], loc=\"upper left\")\n",
    "    legend_1.get_frame().set_linewidth(0.0)\n",
    "    legend_1.get_frame().set_alpha(0.0)\n",
    "\n",
    "    fig.savefig(\"GIS_ismip6_as19_projection.pdf\", bbox_inches=\"tight\")\n",
    "\n",
    "\n"
   ]
  },
  {
   "cell_type": "code",
   "execution_count": 389,
   "id": "direct-bunch",
   "metadata": {},
   "outputs": [
    {
     "data": {
      "image/png": "[encoded data removed]",
      "text/plain": [
       "<Figure size 446.4x216 with 2 Axes>"
      ]
     },
     "metadata": {
      "needs_background": "light"
     },
     "output_type": "display_data"
    }
   ],
   "source": [
    "plot_prognostic(ismip6, as19_norm)"
   ]
  },
  {
   "cell_type": "code",
   "execution_count": 333,
   "id": "impossible-scoop",
   "metadata": {},
   "outputs": [],
   "source": [
    "!open GIS_ismip6_*"
   ]
  },
  {
   "cell_type": "code",
   "execution_count": 328,
   "id": "sublime-hayes",
   "metadata": {},
   "outputs": [],
   "source": [
    "plt.savefig?"
   ]
  },
  {
   "cell_type": "code",
   "execution_count": 352,
   "id": "specified-fairy",
   "metadata": {},
   "outputs": [],
   "source": [
    "sns.kdeplot?"
   ]
  },
  {
   "cell_type": "code",
   "execution_count": null,
   "id": "minimal-affect",
   "metadata": {},
   "outputs": [],
   "source": []
  }
 ],
 "metadata": {
  "kernelspec": {
   "display_name": "Python 3",
   "language": "python",
   "name": "python3"
  },
  "language_info": {
   "codemirror_mode": {
    "name": "ipython",
    "version": 3
   },
   "file_extension": ".py",
   "mimetype": "text/x-python",
   "name": "python",
   "nbconvert_exporter": "python",
   "pygments_lexer": "ipython3",
   "version": "3.8.7"
  }
 },
 "nbformat": 4,
 "nbformat_minor": 5
}
