{
 "cells": [
  {
   "cell_type": "markdown",
   "id": "collected-executive",
   "metadata": {},
   "source": [
    "# Analyze sea-level predictions for Greenland by ISMIP6 and Aschwanden et al (2019) [AS19]"
   ]
  },
  {
   "cell_type": "code",
   "execution_count": 1,
   "id": "peripheral-bargain",
   "metadata": {},
   "outputs": [
    {
     "data": {
      "text/html": [
       "<style>.container { width:95% !important; }</style>"
      ],
      "text/plain": [
       "<IPython.core.display.HTML object>"
      ]
     },
     "metadata": {},
     "output_type": "display_data"
    }
   ],
   "source": [
    "from IPython.core.display import display, HTML\n",
    "display(HTML(\"<style>.container { width:95% !important; }</style>\"))"
   ]
  },
  {
   "cell_type": "code",
   "execution_count": 3,
   "id": "republican-hunter",
   "metadata": {},
   "outputs": [],
   "source": [
    "import numpy as np\n",
    "import os\n",
    "import pylab as plt\n",
    "import pandas as pd\n",
    "import seaborn as sns\n",
    "import scipy\n",
    "\n",
    "import matplotlib.lines as mlines\n",
    "import matplotlib as mpl\n",
    "import matplotlib.cm as cmx\n",
    "import matplotlib.colors as colors\n",
    "\n",
    "from utilities.data_loader import load_imbie_gris, load_ismip6_gris, load_imbie_ant\n",
    "from utilities.helper import hist_start, hist_end, proj_start, proj_end, secpera\n",
    "\n",
    "import warnings\n",
    "warnings.filterwarnings('ignore')"
   ]
  },
  {
   "cell_type": "markdown",
   "id": "going-danger",
   "metadata": {},
   "source": [
    "## Plotting helpers"
   ]
  },
  {
   "cell_type": "code",
   "execution_count": 4,
   "id": "fantastic-neighbor",
   "metadata": {},
   "outputs": [],
   "source": [
    "fontsize = 8\n",
    "lw = 0.65\n",
    "aspect_ratio = 0.35\n",
    "markersize = 2\n",
    "\n",
    "params = {\n",
    "    \"axes.linewidth\": 0.25,\n",
    "    \"lines.linewidth\": lw,\n",
    "    \"axes.labelsize\": fontsize,\n",
    "    \"font.size\": fontsize,\n",
    "    \"xtick.direction\": \"in\",\n",
    "    \"xtick.labelsize\": fontsize,\n",
    "    \"xtick.major.size\": 2.5,\n",
    "    \"xtick.major.width\": 0.25,\n",
    "    \"ytick.direction\": \"in\",\n",
    "    \"ytick.labelsize\": fontsize,\n",
    "    \"ytick.major.size\": 2.5,\n",
    "    \"ytick.major.width\": 0.25,\n",
    "    \"legend.fontsize\": fontsize,\n",
    "    \"lines.markersize\": markersize,\n",
    "    \"font.size\": fontsize,\n",
    "}\n",
    "\n",
    "plt.rcParams.update(params)\n",
    "\n",
    "\n",
    "grace_signal_lw = 0.75\n",
    "mouginot_signal_lw = 0.75\n",
    "imbie_signal_lw = 0.75\n",
    "simulated_signal_lw = 0.15\n",
    "grace_signal_color = \"#084594\"\n",
    "grace_sigma_color = \"#9ecae1\"\n",
    "mouginot_signal_color = \"#a63603\"\n",
    "mouginot_sigma_color = \"#fdbe85\"\n",
    "imbie_signal_color = \"#005a32\"\n",
    "imbie_sigma_color = \"#a1d99b\"\n",
    "simulated_signal_color = \"0.7\"\n",
    "\n",
    "gt2cmSLE = 1.0 / 362.5 / 10.0\n",
    "\n",
    "rcp_list = [26, 85]\n",
    "rcp_dict = {26: \"RCP 2.6\", 45: \"RCP 4.5\", 85: \"RCP 8.5\"}\n",
    "rcp_col_dict = {85: \"#990002\", 45: \"#5492CD\", 26: \"#003466\"}\n",
    "rcp_shade_col_dict = {85: \"#F4A582\", 45: \"#92C5DE\", 26: \"#4393C3\"}\n",
    "model_ls_dict = {\"Model Uncertainty (ISMIP6)\": \"solid\", \"Parametric Uncertainty (AS19)\": \"dashed\"}\n",
    "\n",
    "\n",
    "def set_size(w, h, ax=None):\n",
    "    \"\"\" w, h: width, height in inches \"\"\"\n",
    "\n",
    "    if not ax:\n",
    "        ax = plt.gca()\n",
    "    l = ax.figure.subplotpars.left\n",
    "    r = ax.figure.subplotpars.right\n",
    "    t = ax.figure.subplotpars.top\n",
    "    b = ax.figure.subplotpars.bottom\n",
    "    figw = float(w) / (r - l)\n",
    "    figh = float(h) / (t - b)\n",
    "    ax.figure.set_size_inches(figw, figh)\n",
    "\n"
   ]
  },
  {
   "cell_type": "markdown",
   "id": "mechanical-bhutan",
   "metadata": {},
   "source": [
    "## Load ISMIP6 Greenland projections"
   ]
  },
  {
   "cell_type": "code",
   "execution_count": 13,
   "id": "architectural-customs",
   "metadata": {},
   "outputs": [],
   "source": [
    "ismip6_gris = load_ismip6_gris(remove_ctrl=True)\n",
    "ismip6_gris_w_ctrl = load_ismip6_gris(remove_ctrl=False)"
   ]
  },
  {
   "cell_type": "markdown",
   "id": "unnecessary-restoration",
   "metadata": {},
   "source": [
    "## ISMIP6 in numbers"
   ]
  },
  {
   "cell_type": "code",
   "execution_count": 14,
   "id": "damaged-method",
   "metadata": {},
   "outputs": [
    {
     "name": "stdout",
     "output_type": "stream",
     "text": [
      "Number of modeling groups participated: 13\n",
      "Number of ice sheet model configurations used: 18\n",
      "Number of experiments: 9\n"
     ]
    }
   ],
   "source": [
    "ng = len(ismip6.groupby(by=\"Group\").mean())\n",
    "nm = len(ismip6.groupby(by=\"Model\").mean())\n",
    "ne = len(ismip6.groupby(by=\"Exp\").mean())\n",
    "\n",
    "print(f\"Number of modeling groups participated: {ng}\")\n",
    "print(f\"Number of ice sheet model configurations used: {nm}\")\n",
    "print(f\"Number of experiments: {ne}\")"
   ]
  },
  {
   "cell_type": "markdown",
   "id": "boring-kenya",
   "metadata": {},
   "source": [
    "## Load Observations"
   ]
  },
  {
   "cell_type": "code",
   "execution_count": 15,
   "id": "verbal-delivery",
   "metadata": {},
   "outputs": [],
   "source": [
    "imbie_gris = load_imbie_gris()"
   ]
  },
  {
   "cell_type": "markdown",
   "id": "young-filename",
   "metadata": {},
   "source": [
    "## Plot function to reproduce Figure 1 in Aschwanden et al (2021)"
   ]
  },
  {
   "cell_type": "code",
   "execution_count": 16,
   "id": "following-emphasis",
   "metadata": {},
   "outputs": [],
   "source": [
    "def plot_historical(out_filename, df, imbie):\n",
    "    \"\"\"\n",
    "    Plot historical simulations and observations.\n",
    "    \"\"\"\n",
    "\n",
    "    def plot_signal(g):\n",
    "        m_df = g[-1]\n",
    "        x = m_df[\"Year\"]\n",
    "        y = m_df[\"Cumulative ice sheet mass change (Gt)\"]\n",
    "\n",
    "        return ax.plot(x, y, color=simulated_signal_color, linewidth=simulated_signal_lw)\n",
    "\n",
    "    xmin = 2000\n",
    "    xmax = 2025\n",
    "    ymin = -3000\n",
    "    ymax = 4000\n",
    "\n",
    "    fig = plt.figure(num=\"historical\", clear=True)\n",
    "    ax = fig.add_subplot(111)\n",
    "\n",
    "    \n",
    "    [plot_signal(g) for g in df.groupby(by=[\"Group\", \"Model\", \"Exp\"])]\n",
    "\n",
    "    ismip6_mean = df.groupby(by=\"Year\").mean()\n",
    "    ismip6_std = df.groupby(by=\"Year\").std()\n",
    "    ismip6_low = df.groupby(by=\"Year\").quantile(0.05)\n",
    "    ismip6_high = df.groupby(by=\"Year\").quantile(0.95)\n",
    "\n",
    "\n",
    "    ismip6_ci = ax.fill_between(\n",
    "        ismip6_mean.index,\n",
    "        ismip6_low[\"Cumulative ice sheet mass change (Gt)\"],\n",
    "        ismip6_high[\"Cumulative ice sheet mass change (Gt)\"],\n",
    "        color=\"0.0\",\n",
    "        alpha=0.30,\n",
    "        linewidth=0.0,\n",
    "        zorder=10,\n",
    "        label=\"Simulated (ISMIP6) 90% c.i.\"\n",
    "    )\n",
    "\n",
    "    ax.fill_between(\n",
    "        imbie[\"Year\"],\n",
    "        imbie[\"Cumulative ice sheet mass change (Gt)\"]\n",
    "        - 1 * imbie[\"Cumulative ice sheet mass change uncertainty (Gt)\"],\n",
    "        imbie[\"Cumulative ice sheet mass change (Gt)\"]\n",
    "        + 1 * imbie[\"Cumulative ice sheet mass change uncertainty (Gt)\"],\n",
    "        color=imbie_sigma_color,\n",
    "        alpha=0.5,\n",
    "        linewidth=0,\n",
    "    )\n",
    "    imbie_line = ax.plot(\n",
    "        imbie[\"Year\"],\n",
    "        imbie[\"Cumulative ice sheet mass change (Gt)\"],\n",
    "        \"-\",\n",
    "        color=imbie_signal_color,\n",
    "        linewidth=imbie_signal_lw,\n",
    "        label=\"Observed (IMBIE)\",\n",
    "    )\n",
    "\n",
    "    ax.axvline(proj_start, color=\"k\", linestyle=\"dashed\", linewidth=grace_signal_lw)\n",
    "    ax.axhline(0, color=\"k\", linestyle=\"dotted\", linewidth=grace_signal_lw)\n",
    "    ax.text(2014.75, 3000, \"Historical Period\", ha=\"right\")\n",
    "    ax.text(2015.25, 3000, \"Projection Period\", ha=\"left\")\n",
    "\n",
    "    model_line = mlines.Line2D([], [], color=simulated_signal_color, linewidth=simulated_signal_lw, label=\"Simulated (ISMIP6)\")\n",
    "\n",
    "    legend = ax.legend(handles=[imbie_line[0], model_line, ismip6_ci], loc=\"lower left\")\n",
    "    legend.get_frame().set_linewidth(0.0)\n",
    "    legend.get_frame().set_alpha(0.0)\n",
    "\n",
    "    ax.set_xlabel(\"Year\")\n",
    "    ax.set_ylabel(f\"Cumulative mass change\\nsince {proj_start} (Gt)\")\n",
    "\n",
    "    ax.set_xlim(xmin, xmax)\n",
    "    ax.set_ylim(ymin, ymax)\n",
    "    ax_sle = ax.twinx()\n",
    "    ax_sle.set_ylabel(f\"Contribution to sea-level \\nsince {proj_start} (cm SLE)\")\n",
    "    ax_sle.set_ylim(-ymin * gt2cmSLE, -ymax * gt2cmSLE)\n",
    "\n",
    "    set_size(5, 2.5)\n",
    "\n",
    "    fig.savefig(out_filename, bbox_inches=\"tight\")\n"
   ]
  },
  {
   "cell_type": "markdown",
   "id": "revised-liberty",
   "metadata": {},
   "source": [
    "## Plot the historical simulations along side observations"
   ]
  },
  {
   "cell_type": "code",
   "execution_count": 17,
   "id": "black-france",
   "metadata": {},
   "outputs": [
    {
     "data": {
      "image/png": "[encoded data removed]",
      "text/plain": [
       "<Figure size 464.516x238.411 with 2 Axes>"
      ]
     },
     "metadata": {
      "needs_background": "light"
     },
     "output_type": "display_data"
    }
   ],
   "source": [
    "historical_filename = \"GRIS_historical_w_ctrl.pdf\"\n",
    "plot_historical(historical_filename, ismip6_gris_w_ctrl, imbie_gris)\n"
   ]
  },
  {
   "cell_type": "code",
   "execution_count": 18,
   "id": "439142ce",
   "metadata": {},
   "outputs": [
    {
     "data": {
      "image/png": "[encoded data removed]",
      "text/plain": [
       "<Figure size 464.516x238.411 with 2 Axes>"
      ]
     },
     "metadata": {
      "needs_background": "light"
     },
     "output_type": "display_data"
    }
   ],
   "source": [
    "historical_filename = \"GRIS_historical.pdf\"\n",
    "plot_historical(historical_filename, ismip6_gris, imbie_gris)"
   ]
  },
  {
   "cell_type": "markdown",
   "id": "threaded-baghdad",
   "metadata": {},
   "source": [
    "Unfortunately, most simulations underestimate recent (2008--2020) mass loss. Indeed, the observed record of mass loss lies beyond the 95th percentile of the ISMIP6 experiments. Underestimating recent mass loss likely translates into underestimating mass loss at 2100 as well.  That observations and the ensemble are disjoint implies that model uncertainty is underestimated both now and in the future. "
   ]
  },
  {
   "cell_type": "markdown",
   "id": "excess-manhattan",
   "metadata": {},
   "source": [
    "## Comparison between model and parametric uncertainty"
   ]
  },
  {
   "cell_type": "markdown",
   "id": "broke-fluid",
   "metadata": {},
   "source": [
    "Let us now compare model uncertainty and parametric uncertainty. Here we will use the 500 member ensemble of Aschwanden et al. (2019) [AS19]. We start by loading the AS19 data set."
   ]
  },
  {
   "cell_type": "code",
   "execution_count": null,
   "id": "dependent-incident",
   "metadata": {},
   "outputs": [],
   "source": [
    "as19_norm = pd.read_csv(\"as19/aschwanden_et_al_2019_les_2015_norm.csv.gz\")\n",
    "as19_norm[\"SLE (cm)\"] = -as19_norm[\"Mass (Gt)\"] / 362.5 / 10\n",
    "as19_norm = as19_norm.astype({\"RCP\": int, \"Experiment\": int})\n",
    "\n",
    "samples_file = \"lhs_samples/lhs_samples_500.csv\"\n",
    "samples = pd.read_csv(samples_file).rename(columns={\"id\": \"Experiment\"})\n",
    "\n",
    "as19_norm = pd.merge(as19_norm, samples, on=\"Experiment\")\n"
   ]
  },
  {
   "cell_type": "code",
   "execution_count": null,
   "id": "excessive-producer",
   "metadata": {},
   "outputs": [],
   "source": [
    "print(\"Inter-quartile range (IQR):\\n\\n\")\n",
    "\n",
    "as19_2100 = as19_norm[as19_norm[\"Year\"] == 2100]\n",
    "ismip6_2100 = ismip6[ismip6[\"Year\"] == 2100]\n",
    "model_df_dict = {\"Model Uncertainty (ISMIP6)\": ismip6_2100, \"Parametric Uncertainty (AS19)\": as19_2100}\n",
    "\n",
    "fig = plt.figure(num=\"kde\", clear=True)\n",
    "ax = fig.add_subplot(111)\n",
    "\n",
    "for l, df in model_df_dict.items():\n",
    "    for rcp in rcp_list:\n",
    "        s_df = df[df[\"RCP\"] == rcp]\n",
    "        color = rcp_col_dict[rcp]\n",
    "        sns.kdeplot(data=s_df, x=\"SLE (cm)\", color=color, ls=model_ls_dict[l], ax=ax)\n",
    "        m_q = s_df[\"SLE (cm)\"].quantile(0.75) - s_df[\"SLE (cm)\"].quantile(0.25)\n",
    "        m_q = np.round(m_q, 1)\n",
    "        print(f\"  - {l} {rcp_dict[rcp]} IQR = {m_q:.1f} cm SLE\")\n",
    "\n",
    "lr = [mlines.Line2D([], [], color=rcp_col_dict[rcp], label=f\"RCP {rcp}\") for rcp in rcp_list]\n",
    "lm = [mlines.Line2D([], [], color=\"k\", linestyle=v, label=k) for k, v in model_ls_dict.items()]\n",
    "ax.set_title(\"Model vs parametric uncertainty at 2100\")\n",
    "legend = ax.legend(handles=lr + lm)\n",
    "legend.get_frame().set_linewidth(0.0)\n",
    "legend.get_frame().set_alpha(0.0)\n",
    "set_size(3.2, 1.8)\n",
    "fig.savefig(\"model_vs_parametric_uncerainty_pdf.pdf\")"
   ]
  },
  {
   "cell_type": "code",
   "execution_count": 22,
   "id": "842178fd",
   "metadata": {},
   "outputs": [],
   "source": [
    "basedir = \"ComputedScalarsPaper\"\n",
    "ismip6_filename = \"ismip6_ant_ctrl_removed.csv.gz\"\n",
    "remove_ctrl = True\n",
    "from pathlib import Path"
   ]
  },
  {
   "cell_type": "code",
   "execution_count": 23,
   "id": "09d62893",
   "metadata": {},
   "outputs": [],
   "source": [
    "    ctrl_open_files = []\n",
    "    for path in Path(basedir).rglob(\"computed_*_ctrl_proj_open.nc\"):\n",
    "        ctrl_open_files.append(path)\n",
    "    ctrl_std_files = []\n",
    "    for path in Path(basedir).rglob(\"computed_*_ctrl_proj_std.nc\"):\n",
    "        ctrl_open_files.append(path)\n",
    "\n",
    "    hist_open_files = []\n",
    "    for path in Path(basedir).rglob(\"computed_*_hist_open.nc\"):\n",
    "        hist_open_files.append(path)\n",
    "    hist_std_files = []\n",
    "    for path in Path(basedir).rglob(\"computed_*_hist_open.nc\"):\n",
    "        hist_std_files.append(path)\n"
   ]
  },
  {
   "cell_type": "code",
   "execution_count": 26,
   "id": "a65caea6",
   "metadata": {},
   "outputs": [],
   "source": [
    "from netCDF4 import Dataset as NC"
   ]
  },
  {
   "cell_type": "code",
   "execution_count": 27,
   "id": "a1914a68",
   "metadata": {},
   "outputs": [],
   "source": [
    "    m_var = \"ivol\"\n",
    "    for path in Path(basedir).rglob(f\"computed_{m_var}_*.nc\"):\n",
    "        # Experiment\n",
    "        nc = NC(path)\n",
    "        exp = nc.variables[m_var][:]\n"
   ]
  },
  {
   "cell_type": "code",
   "execution_count": 28,
   "id": "805ac03f",
   "metadata": {},
   "outputs": [
    {
     "data": {
      "text/plain": [
       "masked_array(data=[2.6757030e+16, 2.6756809e+16, 2.6756308e+16,\n",
       "                   2.6754120e+16, 2.6752089e+16, 2.6750626e+16,\n",
       "                   2.6749052e+16, 2.6746917e+16, 2.6746050e+16,\n",
       "                   2.6746331e+16, 2.6747845e+16, 2.6749372e+16,\n",
       "                   2.6750695e+16, 2.6751515e+16, 2.6752372e+16],\n",
       "             mask=False,\n",
       "       fill_value=1e+20,\n",
       "            dtype=float32)"
      ]
     },
     "execution_count": 28,
     "metadata": {},
     "output_type": "execute_result"
    }
   ],
   "source": [
    "exp"
   ]
  },
  {
   "cell_type": "code",
   "execution_count": 29,
   "id": "b514ea49",
   "metadata": {},
   "outputs": [],
   "source": [
    "        exp -= exp[0]\n"
   ]
  },
  {
   "cell_type": "code",
   "execution_count": 31,
   "id": "d69046ba",
   "metadata": {},
   "outputs": [],
   "source": [
    "    m_var = \"ivol\"\n",
    "    for path in Path(basedir).rglob(f\"computed_{m_var}_*.nc\"):\n",
    "        # Experiment\n",
    "        nc = NC(path)\n",
    "        exp = nc.variables[m_var][:]\n",
    "        exp -= exp[0]\n",
    "        # m3 to kg\n",
    "        exp *= 910\n",
    "        exp /= 1e12\n"
   ]
  },
  {
   "cell_type": "code",
   "execution_count": 34,
   "id": "309f1b15",
   "metadata": {},
   "outputs": [
    {
     "name": "stdout",
     "output_type": "stream",
     "text": [
      "['AIS', 'AWI', 'PISM1']\n"
     ]
    },
    {
     "ename": "NameError",
     "evalue": "name 'ctrl_files' is not defined",
     "output_type": "error",
     "traceback": [
      "\u001b[0;31m---------------------------------------------------------------------------\u001b[0m",
      "\u001b[0;31mNameError\u001b[0m                                 Traceback (most recent call last)",
      "\u001b[0;32m<ipython-input-34-85582f21e0b6>\u001b[0m in \u001b[0;36m<module>\u001b[0;34m\u001b[0m\n\u001b[1;32m     21\u001b[0m         \u001b[0mrcp\u001b[0m \u001b[0;34m=\u001b[0m \u001b[0;36m85\u001b[0m\u001b[0;34m\u001b[0m\u001b[0;34m\u001b[0m\u001b[0m\n\u001b[1;32m     22\u001b[0m     \u001b[0;31m# Find the coressponding CTRL Historical simulations\u001b[0m\u001b[0;34m\u001b[0m\u001b[0;34m\u001b[0m\u001b[0;34m\u001b[0m\u001b[0m\n\u001b[0;32m---> 23\u001b[0;31m     \u001b[0mctrl_file\u001b[0m \u001b[0;34m=\u001b[0m \u001b[0;34m[\u001b[0m\u001b[0mm\u001b[0m \u001b[0;32mfor\u001b[0m \u001b[0mm\u001b[0m \u001b[0;32min\u001b[0m \u001b[0mctrl_files\u001b[0m \u001b[0;32mif\u001b[0m \u001b[0;34m(\u001b[0m\u001b[0;34mf\"{group}_{model}\"\u001b[0m \u001b[0;32min\u001b[0m \u001b[0mm\u001b[0m\u001b[0;34m.\u001b[0m\u001b[0mname\u001b[0m\u001b[0;34m)\u001b[0m\u001b[0;34m]\u001b[0m\u001b[0;34m[\u001b[0m\u001b[0;36m0\u001b[0m\u001b[0;34m]\u001b[0m\u001b[0;34m\u001b[0m\u001b[0;34m\u001b[0m\u001b[0m\n\u001b[0m\u001b[1;32m     24\u001b[0m     \u001b[0mhist_file\u001b[0m \u001b[0;34m=\u001b[0m \u001b[0;34m[\u001b[0m\u001b[0mm\u001b[0m \u001b[0;32mfor\u001b[0m \u001b[0mm\u001b[0m \u001b[0;32min\u001b[0m \u001b[0mhist_files\u001b[0m \u001b[0;32mif\u001b[0m \u001b[0;34m(\u001b[0m\u001b[0;34mf\"{group}_{model}\"\u001b[0m \u001b[0;32min\u001b[0m \u001b[0mm\u001b[0m\u001b[0;34m.\u001b[0m\u001b[0mname\u001b[0m\u001b[0;34m)\u001b[0m\u001b[0;34m]\u001b[0m\u001b[0;34m[\u001b[0m\u001b[0;36m0\u001b[0m\u001b[0;34m]\u001b[0m\u001b[0;34m\u001b[0m\u001b[0;34m\u001b[0m\u001b[0m\n",
      "\u001b[0;31mNameError\u001b[0m: name 'ctrl_files' is not defined"
     ]
    }
   ],
   "source": [
    "    for path in Path(basedir).rglob(f\"computed_{m_var}_*.nc\"):\n",
    "        # Experiment\n",
    "        nc = NC(path)\n",
    "        exp = nc.variables[m_var][:]\n",
    "        exp -= exp[0]\n",
    "        # m3 to kg\n",
    "        exp *= 910\n",
    "        exp /= 1e12\n",
    "        f = path.name.split(f\"computed_\")[-1].split(\".nc\")[0].split(\"_\")[1:4]\n",
    "        print(f)\n",
    "        # This is ugly, because of \"ITLS_PIK\"\n",
    "        if len(f) == 3:\n",
    "            group, model, exp = f\n",
    "        else:\n",
    "            g1, g2, model, exp = f\n",
    "            group = f\"{g1}_{g2}\"\n",
    "\n",
    "        if exp in [\"exp07\"]:\n",
    "            rcp = 26\n",
    "        else:\n",
    "            rcp = 85\n",
    "        # Find the coressponding CTRL Historical simulations\n",
    "        ctrl_file = [m for m in ctrl_files if (f\"{group}_{model}\" in m.name)][0]\n",
    "        hist_file = [m for m in hist_files if (f\"{group}_{model}\" in m.name)][0]\n"
   ]
  },
  {
   "cell_type": "code",
   "execution_count": 35,
   "id": "f84d6d69",
   "metadata": {},
   "outputs": [
    {
     "ename": "IndexError",
     "evalue": "list index out of range",
     "output_type": "error",
     "traceback": [
      "\u001b[0;31m---------------------------------------------------------------------------\u001b[0m",
      "\u001b[0;31mIndexError\u001b[0m                                Traceback (most recent call last)",
      "\u001b[0;32m<ipython-input-35-548148077941>\u001b[0m in \u001b[0;36m<module>\u001b[0;34m\u001b[0m\n\u001b[1;32m      1\u001b[0m \u001b[0mctrl_open_file\u001b[0m \u001b[0;34m=\u001b[0m \u001b[0;34m[\u001b[0m\u001b[0mm\u001b[0m \u001b[0;32mfor\u001b[0m \u001b[0mm\u001b[0m \u001b[0;32min\u001b[0m \u001b[0mctrl_open_files\u001b[0m \u001b[0;32mif\u001b[0m \u001b[0;34m(\u001b[0m\u001b[0;34mf\"{group}_{model}\"\u001b[0m \u001b[0;32min\u001b[0m \u001b[0mm\u001b[0m\u001b[0;34m.\u001b[0m\u001b[0mname\u001b[0m\u001b[0;34m)\u001b[0m\u001b[0;34m]\u001b[0m\u001b[0;34m[\u001b[0m\u001b[0;36m0\u001b[0m\u001b[0;34m]\u001b[0m\u001b[0;34m\u001b[0m\u001b[0;34m\u001b[0m\u001b[0m\n\u001b[0;32m----> 2\u001b[0;31m \u001b[0mctrl_std_file\u001b[0m \u001b[0;34m=\u001b[0m \u001b[0;34m[\u001b[0m\u001b[0mm\u001b[0m \u001b[0;32mfor\u001b[0m \u001b[0mm\u001b[0m \u001b[0;32min\u001b[0m \u001b[0mctrl_std_files\u001b[0m \u001b[0;32mif\u001b[0m \u001b[0;34m(\u001b[0m\u001b[0;34mf\"{group}_{model}\"\u001b[0m \u001b[0;32min\u001b[0m \u001b[0mm\u001b[0m\u001b[0;34m.\u001b[0m\u001b[0mname\u001b[0m\u001b[0;34m)\u001b[0m\u001b[0;34m]\u001b[0m\u001b[0;34m[\u001b[0m\u001b[0;36m0\u001b[0m\u001b[0;34m]\u001b[0m\u001b[0;34m\u001b[0m\u001b[0;34m\u001b[0m\u001b[0m\n\u001b[0m\u001b[1;32m      3\u001b[0m \u001b[0mhist_open_file\u001b[0m \u001b[0;34m=\u001b[0m \u001b[0;34m[\u001b[0m\u001b[0mm\u001b[0m \u001b[0;32mfor\u001b[0m \u001b[0mm\u001b[0m \u001b[0;32min\u001b[0m \u001b[0mhist_open_files\u001b[0m \u001b[0;32mif\u001b[0m \u001b[0;34m(\u001b[0m\u001b[0;34mf\"{group}_{model}\"\u001b[0m \u001b[0;32min\u001b[0m \u001b[0mm\u001b[0m\u001b[0;34m.\u001b[0m\u001b[0mname\u001b[0m\u001b[0;34m)\u001b[0m\u001b[0;34m]\u001b[0m\u001b[0;34m[\u001b[0m\u001b[0;36m0\u001b[0m\u001b[0;34m]\u001b[0m\u001b[0;34m\u001b[0m\u001b[0;34m\u001b[0m\u001b[0m\n\u001b[1;32m      4\u001b[0m \u001b[0mhist_std_file\u001b[0m \u001b[0;34m=\u001b[0m \u001b[0;34m[\u001b[0m\u001b[0mm\u001b[0m \u001b[0;32mfor\u001b[0m \u001b[0mm\u001b[0m \u001b[0;32min\u001b[0m \u001b[0mhist_std_files\u001b[0m \u001b[0;32mif\u001b[0m \u001b[0;34m(\u001b[0m\u001b[0;34mf\"{group}_{model}\"\u001b[0m \u001b[0;32min\u001b[0m \u001b[0mm\u001b[0m\u001b[0;34m.\u001b[0m\u001b[0mname\u001b[0m\u001b[0;34m)\u001b[0m\u001b[0;34m]\u001b[0m\u001b[0;34m[\u001b[0m\u001b[0;36m0\u001b[0m\u001b[0;34m]\u001b[0m\u001b[0;34m\u001b[0m\u001b[0;34m\u001b[0m\u001b[0m\n",
      "\u001b[0;31mIndexError\u001b[0m: list index out of range"
     ]
    }
   ],
   "source": [
    "        ctrl_open_file = [m for m in ctrl_open_files if (f\"{group}_{model}\" in m.name)][0]\n",
    "        ctrl_std_file = [m for m in ctrl_std_files if (f\"{group}_{model}\" in m.name)][0]\n",
    "        hist_open_file = [m for m in hist_open_files if (f\"{group}_{model}\" in m.name)][0]\n",
    "        hist_std_file = [m for m in hist_std_files if (f\"{group}_{model}\" in m.name)][0]\n"
   ]
  },
  {
   "cell_type": "code",
   "execution_count": 36,
   "id": "339ef11c",
   "metadata": {},
   "outputs": [
    {
     "data": {
      "text/plain": [
       "[PosixPath('ComputedScalarsPaper/AWI/PISM1/ctrl_proj_open/computed_bmbfl_AIS_AWI_PISM1_ctrl_proj_open.nc'),\n",
       " PosixPath('ComputedScalarsPaper/AWI/PISM1/ctrl_proj_open/computed_iareafl_AIS_AWI_PISM1_ctrl_proj_open.nc'),\n",
       " PosixPath('ComputedScalarsPaper/AWI/PISM1/ctrl_proj_open/computed_iareagr_AIS_AWI_PISM1_ctrl_proj_open.nc'),\n",
       " PosixPath('ComputedScalarsPaper/AWI/PISM1/ctrl_proj_open/computed_icearea_AIS_AWI_PISM1_ctrl_proj_open.nc'),\n",
       " PosixPath('ComputedScalarsPaper/AWI/PISM1/ctrl_proj_open/computed_ivaf_AIS_AWI_PISM1_ctrl_proj_open.nc'),\n",
       " PosixPath('ComputedScalarsPaper/AWI/PISM1/ctrl_proj_open/computed_ivol_AIS_AWI_PISM1_ctrl_proj_open.nc'),\n",
       " PosixPath('ComputedScalarsPaper/AWI/PISM1/ctrl_proj_open/computed_smb_AIS_AWI_PISM1_ctrl_proj_open.nc'),\n",
       " PosixPath('ComputedScalarsPaper/AWI/PISM1/ctrl_proj_open/computed_smbgr_AIS_AWI_PISM1_ctrl_proj_open.nc'),\n",
       " PosixPath('ComputedScalarsPaper/NCAR/CISM/ctrl_proj_open/computed_bmbfl_AIS_NCAR_CISM_ctrl_proj_open.nc'),\n",
       " PosixPath('ComputedScalarsPaper/NCAR/CISM/ctrl_proj_open/computed_iareafl_AIS_NCAR_CISM_ctrl_proj_open.nc'),\n",
       " PosixPath('ComputedScalarsPaper/NCAR/CISM/ctrl_proj_open/computed_iareagr_AIS_NCAR_CISM_ctrl_proj_open.nc'),\n",
       " PosixPath('ComputedScalarsPaper/NCAR/CISM/ctrl_proj_open/computed_icearea_AIS_NCAR_CISM_ctrl_proj_open.nc'),\n",
       " PosixPath('ComputedScalarsPaper/NCAR/CISM/ctrl_proj_open/computed_ivaf_AIS_NCAR_CISM_ctrl_proj_open.nc'),\n",
       " PosixPath('ComputedScalarsPaper/NCAR/CISM/ctrl_proj_open/computed_ivol_AIS_NCAR_CISM_ctrl_proj_open.nc'),\n",
       " PosixPath('ComputedScalarsPaper/NCAR/CISM/ctrl_proj_open/computed_smb_AIS_NCAR_CISM_ctrl_proj_open.nc'),\n",
       " PosixPath('ComputedScalarsPaper/NCAR/CISM/ctrl_proj_open/computed_smbgr_AIS_NCAR_CISM_ctrl_proj_open.nc'),\n",
       " PosixPath('ComputedScalarsPaper/PIK/PISM1/ctrl_proj_open/computed_bmbfl_AIS_PIK_PISM1_ctrl_proj_open.nc'),\n",
       " PosixPath('ComputedScalarsPaper/PIK/PISM1/ctrl_proj_open/computed_iareafl_AIS_PIK_PISM1_ctrl_proj_open.nc'),\n",
       " PosixPath('ComputedScalarsPaper/PIK/PISM1/ctrl_proj_open/computed_iareagr_AIS_PIK_PISM1_ctrl_proj_open.nc'),\n",
       " PosixPath('ComputedScalarsPaper/PIK/PISM1/ctrl_proj_open/computed_icearea_AIS_PIK_PISM1_ctrl_proj_open.nc'),\n",
       " PosixPath('ComputedScalarsPaper/PIK/PISM1/ctrl_proj_open/computed_ivaf_AIS_PIK_PISM1_ctrl_proj_open.nc'),\n",
       " PosixPath('ComputedScalarsPaper/PIK/PISM1/ctrl_proj_open/computed_ivol_AIS_PIK_PISM1_ctrl_proj_open.nc'),\n",
       " PosixPath('ComputedScalarsPaper/PIK/PISM1/ctrl_proj_open/computed_smb_AIS_PIK_PISM1_ctrl_proj_open.nc'),\n",
       " PosixPath('ComputedScalarsPaper/PIK/PISM1/ctrl_proj_open/computed_smbgr_AIS_PIK_PISM1_ctrl_proj_open.nc'),\n",
       " PosixPath('ComputedScalarsPaper/PIK/PISM2/ctrl_proj_open/computed_bmbfl_AIS_PIK_PISM2_ctrl_proj_open.nc'),\n",
       " PosixPath('ComputedScalarsPaper/PIK/PISM2/ctrl_proj_open/computed_iareafl_AIS_PIK_PISM2_ctrl_proj_open.nc'),\n",
       " PosixPath('ComputedScalarsPaper/PIK/PISM2/ctrl_proj_open/computed_iareagr_AIS_PIK_PISM2_ctrl_proj_open.nc'),\n",
       " PosixPath('ComputedScalarsPaper/PIK/PISM2/ctrl_proj_open/computed_icearea_AIS_PIK_PISM2_ctrl_proj_open.nc'),\n",
       " PosixPath('ComputedScalarsPaper/PIK/PISM2/ctrl_proj_open/computed_ivaf_AIS_PIK_PISM2_ctrl_proj_open.nc'),\n",
       " PosixPath('ComputedScalarsPaper/PIK/PISM2/ctrl_proj_open/computed_ivol_AIS_PIK_PISM2_ctrl_proj_open.nc'),\n",
       " PosixPath('ComputedScalarsPaper/PIK/PISM2/ctrl_proj_open/computed_smb_AIS_PIK_PISM2_ctrl_proj_open.nc'),\n",
       " PosixPath('ComputedScalarsPaper/PIK/PISM2/ctrl_proj_open/computed_smbgr_AIS_PIK_PISM2_ctrl_proj_open.nc'),\n",
       " PosixPath('ComputedScalarsPaper/UCIJPL/ISSM/ctrl_proj_open/computed_bmbfl_AIS_UCIJPL_ISSM_ctrl_proj_open.nc'),\n",
       " PosixPath('ComputedScalarsPaper/UCIJPL/ISSM/ctrl_proj_open/computed_iareafl_AIS_UCIJPL_ISSM_ctrl_proj_open.nc'),\n",
       " PosixPath('ComputedScalarsPaper/UCIJPL/ISSM/ctrl_proj_open/computed_iareagr_AIS_UCIJPL_ISSM_ctrl_proj_open.nc'),\n",
       " PosixPath('ComputedScalarsPaper/UCIJPL/ISSM/ctrl_proj_open/computed_icearea_AIS_UCIJPL_ISSM_ctrl_proj_open.nc'),\n",
       " PosixPath('ComputedScalarsPaper/UCIJPL/ISSM/ctrl_proj_open/computed_ivaf_AIS_UCIJPL_ISSM_ctrl_proj_open.nc'),\n",
       " PosixPath('ComputedScalarsPaper/UCIJPL/ISSM/ctrl_proj_open/computed_ivol_AIS_UCIJPL_ISSM_ctrl_proj_open.nc'),\n",
       " PosixPath('ComputedScalarsPaper/UCIJPL/ISSM/ctrl_proj_open/computed_smb_AIS_UCIJPL_ISSM_ctrl_proj_open.nc'),\n",
       " PosixPath('ComputedScalarsPaper/UCIJPL/ISSM/ctrl_proj_open/computed_smbgr_AIS_UCIJPL_ISSM_ctrl_proj_open.nc'),\n",
       " PosixPath('ComputedScalarsPaper/ULB/fETISh_16km/ctrl_proj_open/computed_bmbfl_AIS_ULB_fETISh_16km_ctrl_proj_open.nc'),\n",
       " PosixPath('ComputedScalarsPaper/ULB/fETISh_16km/ctrl_proj_open/computed_iareafl_AIS_ULB_fETISh_16km_ctrl_proj_open.nc'),\n",
       " PosixPath('ComputedScalarsPaper/ULB/fETISh_16km/ctrl_proj_open/computed_iareagr_AIS_ULB_fETISh_16km_ctrl_proj_open.nc'),\n",
       " PosixPath('ComputedScalarsPaper/ULB/fETISh_16km/ctrl_proj_open/computed_icearea_AIS_ULB_fETISh_16km_ctrl_proj_open.nc'),\n",
       " PosixPath('ComputedScalarsPaper/ULB/fETISh_16km/ctrl_proj_open/computed_ivaf_AIS_ULB_fETISh_16km_ctrl_proj_open.nc'),\n",
       " PosixPath('ComputedScalarsPaper/ULB/fETISh_16km/ctrl_proj_open/computed_ivol_AIS_ULB_fETISh_16km_ctrl_proj_open.nc'),\n",
       " PosixPath('ComputedScalarsPaper/ULB/fETISh_16km/ctrl_proj_open/computed_smb_AIS_ULB_fETISh_16km_ctrl_proj_open.nc'),\n",
       " PosixPath('ComputedScalarsPaper/ULB/fETISh_16km/ctrl_proj_open/computed_smbgr_AIS_ULB_fETISh_16km_ctrl_proj_open.nc'),\n",
       " PosixPath('ComputedScalarsPaper/ULB/fETISh_32km/ctrl_proj_open/computed_bmbfl_AIS_ULB_fETISh_32km_ctrl_proj_open.nc'),\n",
       " PosixPath('ComputedScalarsPaper/ULB/fETISh_32km/ctrl_proj_open/computed_iareafl_AIS_ULB_fETISh_32km_ctrl_proj_open.nc'),\n",
       " PosixPath('ComputedScalarsPaper/ULB/fETISh_32km/ctrl_proj_open/computed_iareagr_AIS_ULB_fETISh_32km_ctrl_proj_open.nc'),\n",
       " PosixPath('ComputedScalarsPaper/ULB/fETISh_32km/ctrl_proj_open/computed_icearea_AIS_ULB_fETISh_32km_ctrl_proj_open.nc'),\n",
       " PosixPath('ComputedScalarsPaper/ULB/fETISh_32km/ctrl_proj_open/computed_ivaf_AIS_ULB_fETISh_32km_ctrl_proj_open.nc'),\n",
       " PosixPath('ComputedScalarsPaper/ULB/fETISh_32km/ctrl_proj_open/computed_ivol_AIS_ULB_fETISh_32km_ctrl_proj_open.nc'),\n",
       " PosixPath('ComputedScalarsPaper/ULB/fETISh_32km/ctrl_proj_open/computed_smb_AIS_ULB_fETISh_32km_ctrl_proj_open.nc'),\n",
       " PosixPath('ComputedScalarsPaper/ULB/fETISh_32km/ctrl_proj_open/computed_smbgr_AIS_ULB_fETISh_32km_ctrl_proj_open.nc'),\n",
       " PosixPath('ComputedScalarsPaper/VUW/PISM/ctrl_proj_open/computed_bmbfl_AIS_VUW_PISM_ctrl_proj_open.nc'),\n",
       " PosixPath('ComputedScalarsPaper/VUW/PISM/ctrl_proj_open/computed_iareafl_AIS_VUW_PISM_ctrl_proj_open.nc'),\n",
       " PosixPath('ComputedScalarsPaper/VUW/PISM/ctrl_proj_open/computed_iareagr_AIS_VUW_PISM_ctrl_proj_open.nc'),\n",
       " PosixPath('ComputedScalarsPaper/VUW/PISM/ctrl_proj_open/computed_icearea_AIS_VUW_PISM_ctrl_proj_open.nc'),\n",
       " PosixPath('ComputedScalarsPaper/VUW/PISM/ctrl_proj_open/computed_ivaf_AIS_VUW_PISM_ctrl_proj_open.nc'),\n",
       " PosixPath('ComputedScalarsPaper/VUW/PISM/ctrl_proj_open/computed_ivol_AIS_VUW_PISM_ctrl_proj_open.nc'),\n",
       " PosixPath('ComputedScalarsPaper/VUW/PISM/ctrl_proj_open/computed_smb_AIS_VUW_PISM_ctrl_proj_open.nc'),\n",
       " PosixPath('ComputedScalarsPaper/VUW/PISM/ctrl_proj_open/computed_smbgr_AIS_VUW_PISM_ctrl_proj_open.nc'),\n",
       " PosixPath('ComputedScalarsPaper/AWI/PISM1/ctrl_proj_std/computed_bmbfl_AIS_AWI_PISM1_ctrl_proj_std.nc'),\n",
       " PosixPath('ComputedScalarsPaper/AWI/PISM1/ctrl_proj_std/computed_iareafl_AIS_AWI_PISM1_ctrl_proj_std.nc'),\n",
       " PosixPath('ComputedScalarsPaper/AWI/PISM1/ctrl_proj_std/computed_iareagr_AIS_AWI_PISM1_ctrl_proj_std.nc'),\n",
       " PosixPath('ComputedScalarsPaper/AWI/PISM1/ctrl_proj_std/computed_icearea_AIS_AWI_PISM1_ctrl_proj_std.nc'),\n",
       " PosixPath('ComputedScalarsPaper/AWI/PISM1/ctrl_proj_std/computed_ivaf_AIS_AWI_PISM1_ctrl_proj_std.nc'),\n",
       " PosixPath('ComputedScalarsPaper/AWI/PISM1/ctrl_proj_std/computed_ivol_AIS_AWI_PISM1_ctrl_proj_std.nc'),\n",
       " PosixPath('ComputedScalarsPaper/AWI/PISM1/ctrl_proj_std/computed_smb_AIS_AWI_PISM1_ctrl_proj_std.nc'),\n",
       " PosixPath('ComputedScalarsPaper/AWI/PISM1/ctrl_proj_std/computed_smbgr_AIS_AWI_PISM1_ctrl_proj_std.nc'),\n",
       " PosixPath('ComputedScalarsPaper/DOE/MALI/ctrl_proj_std/computed_bmbfl_AIS_DOE_MALI_ctrl_proj_std.nc'),\n",
       " PosixPath('ComputedScalarsPaper/DOE/MALI/ctrl_proj_std/computed_iareafl_AIS_DOE_MALI_ctrl_proj_std.nc'),\n",
       " PosixPath('ComputedScalarsPaper/DOE/MALI/ctrl_proj_std/computed_iareagr_AIS_DOE_MALI_ctrl_proj_std.nc'),\n",
       " PosixPath('ComputedScalarsPaper/DOE/MALI/ctrl_proj_std/computed_icearea_AIS_DOE_MALI_ctrl_proj_std.nc'),\n",
       " PosixPath('ComputedScalarsPaper/DOE/MALI/ctrl_proj_std/computed_ivaf_AIS_DOE_MALI_ctrl_proj_std.nc'),\n",
       " PosixPath('ComputedScalarsPaper/DOE/MALI/ctrl_proj_std/computed_ivol_AIS_DOE_MALI_ctrl_proj_std.nc'),\n",
       " PosixPath('ComputedScalarsPaper/DOE/MALI/ctrl_proj_std/computed_smb_AIS_DOE_MALI_ctrl_proj_std.nc'),\n",
       " PosixPath('ComputedScalarsPaper/DOE/MALI/ctrl_proj_std/computed_smbgr_AIS_DOE_MALI_ctrl_proj_std.nc'),\n",
       " PosixPath('ComputedScalarsPaper/ILTS_PIK/SICOPOLIS/ctrl_proj_std/computed_bmbfl_AIS_ILTS_PIK_SICOPOLIS_ctrl_proj_std.nc'),\n",
       " PosixPath('ComputedScalarsPaper/ILTS_PIK/SICOPOLIS/ctrl_proj_std/computed_iareafl_AIS_ILTS_PIK_SICOPOLIS_ctrl_proj_std.nc'),\n",
       " PosixPath('ComputedScalarsPaper/ILTS_PIK/SICOPOLIS/ctrl_proj_std/computed_iareagr_AIS_ILTS_PIK_SICOPOLIS_ctrl_proj_std.nc'),\n",
       " PosixPath('ComputedScalarsPaper/ILTS_PIK/SICOPOLIS/ctrl_proj_std/computed_icearea_AIS_ILTS_PIK_SICOPOLIS_ctrl_proj_std.nc'),\n",
       " PosixPath('ComputedScalarsPaper/ILTS_PIK/SICOPOLIS/ctrl_proj_std/computed_ivaf_AIS_ILTS_PIK_SICOPOLIS_ctrl_proj_std.nc'),\n",
       " PosixPath('ComputedScalarsPaper/ILTS_PIK/SICOPOLIS/ctrl_proj_std/computed_ivol_AIS_ILTS_PIK_SICOPOLIS_ctrl_proj_std.nc'),\n",
       " PosixPath('ComputedScalarsPaper/ILTS_PIK/SICOPOLIS/ctrl_proj_std/computed_smb_AIS_ILTS_PIK_SICOPOLIS_ctrl_proj_std.nc'),\n",
       " PosixPath('ComputedScalarsPaper/ILTS_PIK/SICOPOLIS/ctrl_proj_std/computed_smbgr_AIS_ILTS_PIK_SICOPOLIS_ctrl_proj_std.nc'),\n",
       " PosixPath('ComputedScalarsPaper/IMAU/IMAUICE1/ctrl_proj_std/computed_bmbfl_AIS_IMAU_IMAUICE1_ctrl_proj_std.nc'),\n",
       " PosixPath('ComputedScalarsPaper/IMAU/IMAUICE1/ctrl_proj_std/computed_iareafl_AIS_IMAU_IMAUICE1_ctrl_proj_std.nc'),\n",
       " PosixPath('ComputedScalarsPaper/IMAU/IMAUICE1/ctrl_proj_std/computed_iareagr_AIS_IMAU_IMAUICE1_ctrl_proj_std.nc'),\n",
       " PosixPath('ComputedScalarsPaper/IMAU/IMAUICE1/ctrl_proj_std/computed_icearea_AIS_IMAU_IMAUICE1_ctrl_proj_std.nc'),\n",
       " PosixPath('ComputedScalarsPaper/IMAU/IMAUICE1/ctrl_proj_std/computed_ivaf_AIS_IMAU_IMAUICE1_ctrl_proj_std.nc'),\n",
       " PosixPath('ComputedScalarsPaper/IMAU/IMAUICE1/ctrl_proj_std/computed_ivol_AIS_IMAU_IMAUICE1_ctrl_proj_std.nc'),\n",
       " PosixPath('ComputedScalarsPaper/IMAU/IMAUICE1/ctrl_proj_std/computed_smb_AIS_IMAU_IMAUICE1_ctrl_proj_std.nc'),\n",
       " PosixPath('ComputedScalarsPaper/IMAU/IMAUICE1/ctrl_proj_std/computed_smbgr_AIS_IMAU_IMAUICE1_ctrl_proj_std.nc'),\n",
       " PosixPath('ComputedScalarsPaper/IMAU/IMAUICE2/ctrl_proj_std/computed_bmbfl_AIS_IMAU_IMAUICE2_ctrl_proj_std.nc'),\n",
       " PosixPath('ComputedScalarsPaper/IMAU/IMAUICE2/ctrl_proj_std/computed_iareafl_AIS_IMAU_IMAUICE2_ctrl_proj_std.nc'),\n",
       " PosixPath('ComputedScalarsPaper/IMAU/IMAUICE2/ctrl_proj_std/computed_iareagr_AIS_IMAU_IMAUICE2_ctrl_proj_std.nc'),\n",
       " PosixPath('ComputedScalarsPaper/IMAU/IMAUICE2/ctrl_proj_std/computed_icearea_AIS_IMAU_IMAUICE2_ctrl_proj_std.nc'),\n",
       " PosixPath('ComputedScalarsPaper/IMAU/IMAUICE2/ctrl_proj_std/computed_ivaf_AIS_IMAU_IMAUICE2_ctrl_proj_std.nc'),\n",
       " PosixPath('ComputedScalarsPaper/IMAU/IMAUICE2/ctrl_proj_std/computed_ivol_AIS_IMAU_IMAUICE2_ctrl_proj_std.nc'),\n",
       " PosixPath('ComputedScalarsPaper/IMAU/IMAUICE2/ctrl_proj_std/computed_smb_AIS_IMAU_IMAUICE2_ctrl_proj_std.nc'),\n",
       " PosixPath('ComputedScalarsPaper/IMAU/IMAUICE2/ctrl_proj_std/computed_smbgr_AIS_IMAU_IMAUICE2_ctrl_proj_std.nc'),\n",
       " PosixPath('ComputedScalarsPaper/JPL1/ISSM/ctrl_proj_std/computed_bmbfl_AIS_JPL1_ISSM_ctrl_proj_std.nc'),\n",
       " PosixPath('ComputedScalarsPaper/JPL1/ISSM/ctrl_proj_std/computed_iareafl_AIS_JPL1_ISSM_ctrl_proj_std.nc'),\n",
       " PosixPath('ComputedScalarsPaper/JPL1/ISSM/ctrl_proj_std/computed_iareagr_AIS_JPL1_ISSM_ctrl_proj_std.nc'),\n",
       " PosixPath('ComputedScalarsPaper/JPL1/ISSM/ctrl_proj_std/computed_icearea_AIS_JPL1_ISSM_ctrl_proj_std.nc'),\n",
       " PosixPath('ComputedScalarsPaper/JPL1/ISSM/ctrl_proj_std/computed_ivaf_AIS_JPL1_ISSM_ctrl_proj_std.nc'),\n",
       " PosixPath('ComputedScalarsPaper/JPL1/ISSM/ctrl_proj_std/computed_ivol_AIS_JPL1_ISSM_ctrl_proj_std.nc'),\n",
       " PosixPath('ComputedScalarsPaper/JPL1/ISSM/ctrl_proj_std/computed_smb_AIS_JPL1_ISSM_ctrl_proj_std.nc'),\n",
       " PosixPath('ComputedScalarsPaper/JPL1/ISSM/ctrl_proj_std/computed_smbgr_AIS_JPL1_ISSM_ctrl_proj_std.nc'),\n",
       " PosixPath('ComputedScalarsPaper/LSCE/GRISLI/ctrl_proj_std/computed_bmbfl_AIS_LSCE_GRISLI_ctrl_proj_std.nc'),\n",
       " PosixPath('ComputedScalarsPaper/LSCE/GRISLI/ctrl_proj_std/computed_iareafl_AIS_LSCE_GRISLI_ctrl_proj_std.nc'),\n",
       " PosixPath('ComputedScalarsPaper/LSCE/GRISLI/ctrl_proj_std/computed_iareagr_AIS_LSCE_GRISLI_ctrl_proj_std.nc'),\n",
       " PosixPath('ComputedScalarsPaper/LSCE/GRISLI/ctrl_proj_std/computed_icearea_AIS_LSCE_GRISLI_ctrl_proj_std.nc'),\n",
       " PosixPath('ComputedScalarsPaper/LSCE/GRISLI/ctrl_proj_std/computed_ivaf_AIS_LSCE_GRISLI_ctrl_proj_std.nc'),\n",
       " PosixPath('ComputedScalarsPaper/LSCE/GRISLI/ctrl_proj_std/computed_ivol_AIS_LSCE_GRISLI_ctrl_proj_std.nc'),\n",
       " PosixPath('ComputedScalarsPaper/LSCE/GRISLI/ctrl_proj_std/computed_smb_AIS_LSCE_GRISLI_ctrl_proj_std.nc'),\n",
       " PosixPath('ComputedScalarsPaper/LSCE/GRISLI/ctrl_proj_std/computed_smbgr_AIS_LSCE_GRISLI_ctrl_proj_std.nc'),\n",
       " PosixPath('ComputedScalarsPaper/NCAR/CISM/ctrl_proj_std/computed_bmbfl_AIS_NCAR_CISM_ctrl_proj_std.nc'),\n",
       " PosixPath('ComputedScalarsPaper/NCAR/CISM/ctrl_proj_std/computed_iareafl_AIS_NCAR_CISM_ctrl_proj_std.nc'),\n",
       " PosixPath('ComputedScalarsPaper/NCAR/CISM/ctrl_proj_std/computed_iareagr_AIS_NCAR_CISM_ctrl_proj_std.nc'),\n",
       " PosixPath('ComputedScalarsPaper/NCAR/CISM/ctrl_proj_std/computed_icearea_AIS_NCAR_CISM_ctrl_proj_std.nc'),\n",
       " PosixPath('ComputedScalarsPaper/NCAR/CISM/ctrl_proj_std/computed_ivaf_AIS_NCAR_CISM_ctrl_proj_std.nc'),\n",
       " PosixPath('ComputedScalarsPaper/NCAR/CISM/ctrl_proj_std/computed_ivol_AIS_NCAR_CISM_ctrl_proj_std.nc'),\n",
       " PosixPath('ComputedScalarsPaper/NCAR/CISM/ctrl_proj_std/computed_smb_AIS_NCAR_CISM_ctrl_proj_std.nc'),\n",
       " PosixPath('ComputedScalarsPaper/NCAR/CISM/ctrl_proj_std/computed_smbgr_AIS_NCAR_CISM_ctrl_proj_std.nc'),\n",
       " PosixPath('ComputedScalarsPaper/UCIJPL/ISSM/ctrl_proj_std/computed_bmbfl_AIS_UCIJPL_ISSM_ctrl_proj_std.nc'),\n",
       " PosixPath('ComputedScalarsPaper/UCIJPL/ISSM/ctrl_proj_std/computed_iareafl_AIS_UCIJPL_ISSM_ctrl_proj_std.nc'),\n",
       " PosixPath('ComputedScalarsPaper/UCIJPL/ISSM/ctrl_proj_std/computed_iareagr_AIS_UCIJPL_ISSM_ctrl_proj_std.nc'),\n",
       " PosixPath('ComputedScalarsPaper/UCIJPL/ISSM/ctrl_proj_std/computed_icearea_AIS_UCIJPL_ISSM_ctrl_proj_std.nc'),\n",
       " PosixPath('ComputedScalarsPaper/UCIJPL/ISSM/ctrl_proj_std/computed_ivaf_AIS_UCIJPL_ISSM_ctrl_proj_std.nc'),\n",
       " PosixPath('ComputedScalarsPaper/UCIJPL/ISSM/ctrl_proj_std/computed_ivol_AIS_UCIJPL_ISSM_ctrl_proj_std.nc'),\n",
       " PosixPath('ComputedScalarsPaper/UCIJPL/ISSM/ctrl_proj_std/computed_smb_AIS_UCIJPL_ISSM_ctrl_proj_std.nc'),\n",
       " PosixPath('ComputedScalarsPaper/UCIJPL/ISSM/ctrl_proj_std/computed_smbgr_AIS_UCIJPL_ISSM_ctrl_proj_std.nc'),\n",
       " PosixPath('ComputedScalarsPaper/ULB/fETISh_16km/ctrl_proj_std/computed_bmbfl_AIS_ULB_fETISh_16km_ctrl_proj_std.nc'),\n",
       " PosixPath('ComputedScalarsPaper/ULB/fETISh_16km/ctrl_proj_std/computed_iareafl_AIS_ULB_fETISh_16km_ctrl_proj_std.nc'),\n",
       " PosixPath('ComputedScalarsPaper/ULB/fETISh_16km/ctrl_proj_std/computed_iareagr_AIS_ULB_fETISh_16km_ctrl_proj_std.nc'),\n",
       " PosixPath('ComputedScalarsPaper/ULB/fETISh_16km/ctrl_proj_std/computed_icearea_AIS_ULB_fETISh_16km_ctrl_proj_std.nc'),\n",
       " PosixPath('ComputedScalarsPaper/ULB/fETISh_16km/ctrl_proj_std/computed_ivaf_AIS_ULB_fETISh_16km_ctrl_proj_std.nc'),\n",
       " PosixPath('ComputedScalarsPaper/ULB/fETISh_16km/ctrl_proj_std/computed_ivol_AIS_ULB_fETISh_16km_ctrl_proj_std.nc'),\n",
       " PosixPath('ComputedScalarsPaper/ULB/fETISh_16km/ctrl_proj_std/computed_smb_AIS_ULB_fETISh_16km_ctrl_proj_std.nc'),\n",
       " PosixPath('ComputedScalarsPaper/ULB/fETISh_16km/ctrl_proj_std/computed_smbgr_AIS_ULB_fETISh_16km_ctrl_proj_std.nc'),\n",
       " PosixPath('ComputedScalarsPaper/ULB/fETISh_32km/ctrl_proj_std/computed_bmbfl_AIS_ULB_fETISh_32km_ctrl_proj_std.nc'),\n",
       " PosixPath('ComputedScalarsPaper/ULB/fETISh_32km/ctrl_proj_std/computed_iareafl_AIS_ULB_fETISh_32km_ctrl_proj_std.nc'),\n",
       " PosixPath('ComputedScalarsPaper/ULB/fETISh_32km/ctrl_proj_std/computed_iareagr_AIS_ULB_fETISh_32km_ctrl_proj_std.nc'),\n",
       " PosixPath('ComputedScalarsPaper/ULB/fETISh_32km/ctrl_proj_std/computed_icearea_AIS_ULB_fETISh_32km_ctrl_proj_std.nc'),\n",
       " PosixPath('ComputedScalarsPaper/ULB/fETISh_32km/ctrl_proj_std/computed_ivaf_AIS_ULB_fETISh_32km_ctrl_proj_std.nc'),\n",
       " PosixPath('ComputedScalarsPaper/ULB/fETISh_32km/ctrl_proj_std/computed_ivol_AIS_ULB_fETISh_32km_ctrl_proj_std.nc'),\n",
       " PosixPath('ComputedScalarsPaper/ULB/fETISh_32km/ctrl_proj_std/computed_smb_AIS_ULB_fETISh_32km_ctrl_proj_std.nc'),\n",
       " PosixPath('ComputedScalarsPaper/ULB/fETISh_32km/ctrl_proj_std/computed_smbgr_AIS_ULB_fETISh_32km_ctrl_proj_std.nc'),\n",
       " PosixPath('ComputedScalarsPaper/UTAS/ElmerIce/ctrl_proj_std/computed_bmbfl_AIS_UTAS_ElmerIce_ctrl_proj_std.nc'),\n",
       " PosixPath('ComputedScalarsPaper/UTAS/ElmerIce/ctrl_proj_std/computed_iareafl_AIS_UTAS_ElmerIce_ctrl_proj_std.nc'),\n",
       " PosixPath('ComputedScalarsPaper/UTAS/ElmerIce/ctrl_proj_std/computed_iareagr_AIS_UTAS_ElmerIce_ctrl_proj_std.nc'),\n",
       " PosixPath('ComputedScalarsPaper/UTAS/ElmerIce/ctrl_proj_std/computed_icearea_AIS_UTAS_ElmerIce_ctrl_proj_std.nc'),\n",
       " PosixPath('ComputedScalarsPaper/UTAS/ElmerIce/ctrl_proj_std/computed_ivaf_AIS_UTAS_ElmerIce_ctrl_proj_std.nc'),\n",
       " PosixPath('ComputedScalarsPaper/UTAS/ElmerIce/ctrl_proj_std/computed_ivol_AIS_UTAS_ElmerIce_ctrl_proj_std.nc'),\n",
       " PosixPath('ComputedScalarsPaper/UTAS/ElmerIce/ctrl_proj_std/computed_smb_AIS_UTAS_ElmerIce_ctrl_proj_std.nc'),\n",
       " PosixPath('ComputedScalarsPaper/UTAS/ElmerIce/ctrl_proj_std/computed_smbgr_AIS_UTAS_ElmerIce_ctrl_proj_std.nc'),\n",
       " PosixPath('ComputedScalarsPaper/VUB/AISMPALEO/ctrl_proj_std/computed_bmbfl_AIS_VUB_AISMPALEO_ctrl_proj_std.nc'),\n",
       " PosixPath('ComputedScalarsPaper/VUB/AISMPALEO/ctrl_proj_std/computed_iareafl_AIS_VUB_AISMPALEO_ctrl_proj_std.nc'),\n",
       " PosixPath('ComputedScalarsPaper/VUB/AISMPALEO/ctrl_proj_std/computed_iareagr_AIS_VUB_AISMPALEO_ctrl_proj_std.nc'),\n",
       " PosixPath('ComputedScalarsPaper/VUB/AISMPALEO/ctrl_proj_std/computed_icearea_AIS_VUB_AISMPALEO_ctrl_proj_std.nc'),\n",
       " PosixPath('ComputedScalarsPaper/VUB/AISMPALEO/ctrl_proj_std/computed_ivaf_AIS_VUB_AISMPALEO_ctrl_proj_std.nc'),\n",
       " PosixPath('ComputedScalarsPaper/VUB/AISMPALEO/ctrl_proj_std/computed_ivol_AIS_VUB_AISMPALEO_ctrl_proj_std.nc'),\n",
       " PosixPath('ComputedScalarsPaper/VUB/AISMPALEO/ctrl_proj_std/computed_smb_AIS_VUB_AISMPALEO_ctrl_proj_std.nc'),\n",
       " PosixPath('ComputedScalarsPaper/VUB/AISMPALEO/ctrl_proj_std/computed_smbgr_AIS_VUB_AISMPALEO_ctrl_proj_std.nc')]"
      ]
     },
     "execution_count": 36,
     "metadata": {},
     "output_type": "execute_result"
    }
   ],
   "source": [
    "ctrl_open_files"
   ]
  },
  {
   "cell_type": "code",
   "execution_count": 37,
   "id": "1b7677e7",
   "metadata": {},
   "outputs": [
    {
     "data": {
      "text/plain": [
       "[]"
      ]
     },
     "execution_count": 37,
     "metadata": {},
     "output_type": "execute_result"
    }
   ],
   "source": [
    "ctrl_std_files"
   ]
  },
  {
   "cell_type": "code",
   "execution_count": 39,
   "id": "1d4d2c2c",
   "metadata": {},
   "outputs": [
    {
     "data": {
      "text/plain": [
       "[PosixPath('ComputedScalarsPaper/AWI/PISM1/hist_open/computed_bmbfl_AIS_AWI_PISM1_hist_open.nc'),\n",
       " PosixPath('ComputedScalarsPaper/AWI/PISM1/hist_open/computed_iareafl_AIS_AWI_PISM1_hist_open.nc'),\n",
       " PosixPath('ComputedScalarsPaper/AWI/PISM1/hist_open/computed_iareagr_AIS_AWI_PISM1_hist_open.nc'),\n",
       " PosixPath('ComputedScalarsPaper/AWI/PISM1/hist_open/computed_icearea_AIS_AWI_PISM1_hist_open.nc'),\n",
       " PosixPath('ComputedScalarsPaper/AWI/PISM1/hist_open/computed_ivaf_AIS_AWI_PISM1_hist_open.nc'),\n",
       " PosixPath('ComputedScalarsPaper/AWI/PISM1/hist_open/computed_ivol_AIS_AWI_PISM1_hist_open.nc'),\n",
       " PosixPath('ComputedScalarsPaper/AWI/PISM1/hist_open/computed_smb_AIS_AWI_PISM1_hist_open.nc'),\n",
       " PosixPath('ComputedScalarsPaper/AWI/PISM1/hist_open/computed_smbgr_AIS_AWI_PISM1_hist_open.nc'),\n",
       " PosixPath('ComputedScalarsPaper/NCAR/CISM/hist_open/computed_bmbfl_AIS_NCAR_CISM_hist_open.nc'),\n",
       " PosixPath('ComputedScalarsPaper/NCAR/CISM/hist_open/computed_iareafl_AIS_NCAR_CISM_hist_open.nc'),\n",
       " PosixPath('ComputedScalarsPaper/NCAR/CISM/hist_open/computed_iareagr_AIS_NCAR_CISM_hist_open.nc'),\n",
       " PosixPath('ComputedScalarsPaper/NCAR/CISM/hist_open/computed_icearea_AIS_NCAR_CISM_hist_open.nc'),\n",
       " PosixPath('ComputedScalarsPaper/NCAR/CISM/hist_open/computed_ivaf_AIS_NCAR_CISM_hist_open.nc'),\n",
       " PosixPath('ComputedScalarsPaper/NCAR/CISM/hist_open/computed_ivol_AIS_NCAR_CISM_hist_open.nc'),\n",
       " PosixPath('ComputedScalarsPaper/NCAR/CISM/hist_open/computed_smb_AIS_NCAR_CISM_hist_open.nc'),\n",
       " PosixPath('ComputedScalarsPaper/NCAR/CISM/hist_open/computed_smbgr_AIS_NCAR_CISM_hist_open.nc'),\n",
       " PosixPath('ComputedScalarsPaper/PIK/PISM1/hist_open/computed_bmbfl_AIS_PIK_PISM1_hist_open.nc'),\n",
       " PosixPath('ComputedScalarsPaper/PIK/PISM1/hist_open/computed_iareafl_AIS_PIK_PISM1_hist_open.nc'),\n",
       " PosixPath('ComputedScalarsPaper/PIK/PISM1/hist_open/computed_iareagr_AIS_PIK_PISM1_hist_open.nc'),\n",
       " PosixPath('ComputedScalarsPaper/PIK/PISM1/hist_open/computed_icearea_AIS_PIK_PISM1_hist_open.nc'),\n",
       " PosixPath('ComputedScalarsPaper/PIK/PISM1/hist_open/computed_ivaf_AIS_PIK_PISM1_hist_open.nc'),\n",
       " PosixPath('ComputedScalarsPaper/PIK/PISM1/hist_open/computed_ivol_AIS_PIK_PISM1_hist_open.nc'),\n",
       " PosixPath('ComputedScalarsPaper/PIK/PISM1/hist_open/computed_smb_AIS_PIK_PISM1_hist_open.nc'),\n",
       " PosixPath('ComputedScalarsPaper/PIK/PISM1/hist_open/computed_smbgr_AIS_PIK_PISM1_hist_open.nc'),\n",
       " PosixPath('ComputedScalarsPaper/PIK/PISM2/hist_open/computed_iareafl_AIS_PIK_PISM2_hist_open.nc'),\n",
       " PosixPath('ComputedScalarsPaper/PIK/PISM2/hist_open/computed_iareagr_AIS_PIK_PISM2_hist_open.nc'),\n",
       " PosixPath('ComputedScalarsPaper/PIK/PISM2/hist_open/computed_icearea_AIS_PIK_PISM2_hist_open.nc'),\n",
       " PosixPath('ComputedScalarsPaper/PIK/PISM2/hist_open/computed_ivaf_AIS_PIK_PISM2_hist_open.nc'),\n",
       " PosixPath('ComputedScalarsPaper/PIK/PISM2/hist_open/computed_ivol_AIS_PIK_PISM2_hist_open.nc'),\n",
       " PosixPath('ComputedScalarsPaper/UCIJPL/ISSM/hist_open/computed_bmbfl_AIS_UCIJPL_ISSM_hist_open.nc'),\n",
       " PosixPath('ComputedScalarsPaper/UCIJPL/ISSM/hist_open/computed_iareafl_AIS_UCIJPL_ISSM_hist_open.nc'),\n",
       " PosixPath('ComputedScalarsPaper/UCIJPL/ISSM/hist_open/computed_iareagr_AIS_UCIJPL_ISSM_hist_open.nc'),\n",
       " PosixPath('ComputedScalarsPaper/UCIJPL/ISSM/hist_open/computed_icearea_AIS_UCIJPL_ISSM_hist_open.nc'),\n",
       " PosixPath('ComputedScalarsPaper/UCIJPL/ISSM/hist_open/computed_ivaf_AIS_UCIJPL_ISSM_hist_open.nc'),\n",
       " PosixPath('ComputedScalarsPaper/UCIJPL/ISSM/hist_open/computed_ivol_AIS_UCIJPL_ISSM_hist_open.nc'),\n",
       " PosixPath('ComputedScalarsPaper/UCIJPL/ISSM/hist_open/computed_smb_AIS_UCIJPL_ISSM_hist_open.nc'),\n",
       " PosixPath('ComputedScalarsPaper/UCIJPL/ISSM/hist_open/computed_smbgr_AIS_UCIJPL_ISSM_hist_open.nc'),\n",
       " PosixPath('ComputedScalarsPaper/ULB/fETISh_16km/hist_open/computed_bmbfl_AIS_ULB_fETISh_16km_hist_open.nc'),\n",
       " PosixPath('ComputedScalarsPaper/ULB/fETISh_16km/hist_open/computed_iareafl_AIS_ULB_fETISh_16km_hist_open.nc'),\n",
       " PosixPath('ComputedScalarsPaper/ULB/fETISh_16km/hist_open/computed_iareagr_AIS_ULB_fETISh_16km_hist_open.nc'),\n",
       " PosixPath('ComputedScalarsPaper/ULB/fETISh_16km/hist_open/computed_icearea_AIS_ULB_fETISh_16km_hist_open.nc'),\n",
       " PosixPath('ComputedScalarsPaper/ULB/fETISh_16km/hist_open/computed_ivaf_AIS_ULB_fETISh_16km_hist_open.nc'),\n",
       " PosixPath('ComputedScalarsPaper/ULB/fETISh_16km/hist_open/computed_ivol_AIS_ULB_fETISh_16km_hist_open.nc'),\n",
       " PosixPath('ComputedScalarsPaper/ULB/fETISh_16km/hist_open/computed_smb_AIS_ULB_fETISh_16km_hist_open.nc'),\n",
       " PosixPath('ComputedScalarsPaper/ULB/fETISh_16km/hist_open/computed_smbgr_AIS_ULB_fETISh_16km_hist_open.nc'),\n",
       " PosixPath('ComputedScalarsPaper/ULB/fETISh_32km/hist_open/computed_bmbfl_AIS_ULB_fETISh_32km_hist_open.nc'),\n",
       " PosixPath('ComputedScalarsPaper/ULB/fETISh_32km/hist_open/computed_iareafl_AIS_ULB_fETISh_32km_hist_open.nc'),\n",
       " PosixPath('ComputedScalarsPaper/ULB/fETISh_32km/hist_open/computed_iareagr_AIS_ULB_fETISh_32km_hist_open.nc'),\n",
       " PosixPath('ComputedScalarsPaper/ULB/fETISh_32km/hist_open/computed_icearea_AIS_ULB_fETISh_32km_hist_open.nc'),\n",
       " PosixPath('ComputedScalarsPaper/ULB/fETISh_32km/hist_open/computed_ivaf_AIS_ULB_fETISh_32km_hist_open.nc'),\n",
       " PosixPath('ComputedScalarsPaper/ULB/fETISh_32km/hist_open/computed_ivol_AIS_ULB_fETISh_32km_hist_open.nc'),\n",
       " PosixPath('ComputedScalarsPaper/ULB/fETISh_32km/hist_open/computed_smb_AIS_ULB_fETISh_32km_hist_open.nc'),\n",
       " PosixPath('ComputedScalarsPaper/ULB/fETISh_32km/hist_open/computed_smbgr_AIS_ULB_fETISh_32km_hist_open.nc'),\n",
       " PosixPath('ComputedScalarsPaper/VUW/PISM/hist_open/computed_bmbfl_AIS_VUW_PISM_hist_open.nc'),\n",
       " PosixPath('ComputedScalarsPaper/VUW/PISM/hist_open/computed_iareafl_AIS_VUW_PISM_hist_open.nc'),\n",
       " PosixPath('ComputedScalarsPaper/VUW/PISM/hist_open/computed_iareagr_AIS_VUW_PISM_hist_open.nc'),\n",
       " PosixPath('ComputedScalarsPaper/VUW/PISM/hist_open/computed_icearea_AIS_VUW_PISM_hist_open.nc'),\n",
       " PosixPath('ComputedScalarsPaper/VUW/PISM/hist_open/computed_ivaf_AIS_VUW_PISM_hist_open.nc'),\n",
       " PosixPath('ComputedScalarsPaper/VUW/PISM/hist_open/computed_ivol_AIS_VUW_PISM_hist_open.nc'),\n",
       " PosixPath('ComputedScalarsPaper/VUW/PISM/hist_open/computed_smb_AIS_VUW_PISM_hist_open.nc'),\n",
       " PosixPath('ComputedScalarsPaper/VUW/PISM/hist_open/computed_smbgr_AIS_VUW_PISM_hist_open.nc')]"
      ]
     },
     "execution_count": 39,
     "metadata": {},
     "output_type": "execute_result"
    }
   ],
   "source": [
    "hist_std_files"
   ]
  },
  {
   "cell_type": "code",
   "execution_count": 40,
   "id": "0558b32f",
   "metadata": {},
   "outputs": [
    {
     "name": "stdout",
     "output_type": "stream",
     "text": [
      "['AIS', 'AWI', 'PISM1']\n"
     ]
    },
    {
     "ename": "IndexError",
     "evalue": "list index out of range",
     "output_type": "error",
     "traceback": [
      "\u001b[0;31m---------------------------------------------------------------------------\u001b[0m",
      "\u001b[0;31mIndexError\u001b[0m                                Traceback (most recent call last)",
      "\u001b[0;32m<ipython-input-40-0a953eba50e3>\u001b[0m in \u001b[0;36m<module>\u001b[0;34m\u001b[0m\n\u001b[1;32m     38\u001b[0m     \u001b[0;31m# Find the coressponding CTRL Historical simulations\u001b[0m\u001b[0;34m\u001b[0m\u001b[0;34m\u001b[0m\u001b[0;34m\u001b[0m\u001b[0m\n\u001b[1;32m     39\u001b[0m     \u001b[0mctrl_open_file\u001b[0m \u001b[0;34m=\u001b[0m \u001b[0;34m[\u001b[0m\u001b[0mm\u001b[0m \u001b[0;32mfor\u001b[0m \u001b[0mm\u001b[0m \u001b[0;32min\u001b[0m \u001b[0mctrl_open_files\u001b[0m \u001b[0;32mif\u001b[0m \u001b[0;34m(\u001b[0m\u001b[0;34mf\"{group}_{model}\"\u001b[0m \u001b[0;32min\u001b[0m \u001b[0mm\u001b[0m\u001b[0;34m.\u001b[0m\u001b[0mname\u001b[0m\u001b[0;34m)\u001b[0m\u001b[0;34m]\u001b[0m\u001b[0;34m[\u001b[0m\u001b[0;36m0\u001b[0m\u001b[0;34m]\u001b[0m\u001b[0;34m\u001b[0m\u001b[0;34m\u001b[0m\u001b[0m\n\u001b[0;32m---> 40\u001b[0;31m     \u001b[0mctrl_std_file\u001b[0m \u001b[0;34m=\u001b[0m \u001b[0;34m[\u001b[0m\u001b[0mm\u001b[0m \u001b[0;32mfor\u001b[0m \u001b[0mm\u001b[0m \u001b[0;32min\u001b[0m \u001b[0mctrl_std_files\u001b[0m \u001b[0;32mif\u001b[0m \u001b[0;34m(\u001b[0m\u001b[0;34mf\"{group}_{model}\"\u001b[0m \u001b[0;32min\u001b[0m \u001b[0mm\u001b[0m\u001b[0;34m.\u001b[0m\u001b[0mname\u001b[0m\u001b[0;34m)\u001b[0m\u001b[0;34m]\u001b[0m\u001b[0;34m[\u001b[0m\u001b[0;36m0\u001b[0m\u001b[0;34m]\u001b[0m\u001b[0;34m\u001b[0m\u001b[0;34m\u001b[0m\u001b[0m\n\u001b[0m\u001b[1;32m     41\u001b[0m     \u001b[0mhist_open_file\u001b[0m \u001b[0;34m=\u001b[0m \u001b[0;34m[\u001b[0m\u001b[0mm\u001b[0m \u001b[0;32mfor\u001b[0m \u001b[0mm\u001b[0m \u001b[0;32min\u001b[0m \u001b[0mhist_open_files\u001b[0m \u001b[0;32mif\u001b[0m \u001b[0;34m(\u001b[0m\u001b[0;34mf\"{group}_{model}\"\u001b[0m \u001b[0;32min\u001b[0m \u001b[0mm\u001b[0m\u001b[0;34m.\u001b[0m\u001b[0mname\u001b[0m\u001b[0;34m)\u001b[0m\u001b[0;34m]\u001b[0m\u001b[0;34m[\u001b[0m\u001b[0;36m0\u001b[0m\u001b[0;34m]\u001b[0m\u001b[0;34m\u001b[0m\u001b[0;34m\u001b[0m\u001b[0m\n\u001b[1;32m     42\u001b[0m     \u001b[0mhist_std_file\u001b[0m \u001b[0;34m=\u001b[0m \u001b[0;34m[\u001b[0m\u001b[0mm\u001b[0m \u001b[0;32mfor\u001b[0m \u001b[0mm\u001b[0m \u001b[0;32min\u001b[0m \u001b[0mhist_std_files\u001b[0m \u001b[0;32mif\u001b[0m \u001b[0;34m(\u001b[0m\u001b[0;34mf\"{group}_{model}\"\u001b[0m \u001b[0;32min\u001b[0m \u001b[0mm\u001b[0m\u001b[0;34m.\u001b[0m\u001b[0mname\u001b[0m\u001b[0;34m)\u001b[0m\u001b[0;34m]\u001b[0m\u001b[0;34m[\u001b[0m\u001b[0;36m0\u001b[0m\u001b[0;34m]\u001b[0m\u001b[0;34m\u001b[0m\u001b[0;34m\u001b[0m\u001b[0m\n",
      "\u001b[0;31mIndexError\u001b[0m: list index out of range"
     ]
    }
   ],
   "source": [
    "    ctrl_open_files = []\n",
    "    for path in Path(basedir).rglob(\"computed_*_ctrl_proj_open.nc\"):\n",
    "        ctrl_open_files.append(path)\n",
    "    ctrl_std_files = []\n",
    "    for path in Path(basedir).rglob(\"computed_*_ctrl_proj_std.nc\"):\n",
    "        ctrl_open_files.append(path)\n",
    "\n",
    "    hist_open_files = []\n",
    "    for path in Path(basedir).rglob(\"computed_*_hist_open.nc\"):\n",
    "        hist_open_files.append(path)\n",
    "    hist_std_files = []\n",
    "    for path in Path(basedir).rglob(\"computed_*_hist_std.nc\"):\n",
    "        hist_std_files.append(path)\n",
    "\n",
    "    dfs = []\n",
    "    m_var = \"ivol\"\n",
    "    for path in Path(basedir).rglob(f\"computed_{m_var}_*.nc\"):\n",
    "        # Experiment\n",
    "        nc = NC(path)\n",
    "        exp = nc.variables[m_var][:]\n",
    "        exp -= exp[0]\n",
    "        # m3 to kg\n",
    "        exp *= 910\n",
    "        exp /= 1e12\n",
    "        f = path.name.split(f\"computed_\")[-1].split(\".nc\")[0].split(\"_\")[1:4]\n",
    "        print(f)\n",
    "        # This is ugly, because of \"ITLS_PIK\"\n",
    "        if len(f) == 3:\n",
    "            group, model, exp = f\n",
    "        else:\n",
    "            g1, g2, model, exp = f\n",
    "            group = f\"{g1}_{g2}\"\n",
    "\n",
    "        if exp in [\"exp07\"]:\n",
    "            rcp = 26\n",
    "        else:\n",
    "            rcp = 85\n",
    "        # Find the coressponding CTRL Historical simulations\n",
    "        ctrl_open_file = [m for m in ctrl_open_files if (f\"{group}_{model}\" in m.name)][0]\n",
    "        ctrl_std_file = [m for m in ctrl_std_files if (f\"{group}_{model}\" in m.name)][0]\n",
    "        hist_open_file = [m for m in hist_open_files if (f\"{group}_{model}\" in m.name)][0]\n",
    "        hist_std_file = [m for m in hist_std_files if (f\"{group}_{model}\" in m.name)][0]\n"
   ]
  },
  {
   "cell_type": "code",
   "execution_count": null,
   "id": "2d6901c7",
   "metadata": {},
   "outputs": [],
   "source": []
  }
 ],
 "metadata": {
  "kernelspec": {
   "display_name": "Python 3",
   "language": "python",
   "name": "python3"
  },
  "language_info": {
   "codemirror_mode": {
    "name": "ipython",
    "version": 3
   },
   "file_extension": ".py",
   "mimetype": "text/x-python",
   "name": "python",
   "nbconvert_exporter": "python",
   "pygments_lexer": "ipython3",
   "version": "3.8.11"
  }
 },
 "nbformat": 4,
 "nbformat_minor": 5
}
